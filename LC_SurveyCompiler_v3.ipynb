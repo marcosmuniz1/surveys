{
 "cells": [
  {
   "cell_type": "code",
   "execution_count": null,
   "id": "4b13eca5",
   "metadata": {},
   "outputs": [],
   "source": [
    "#Compared to v2:\n",
    "\n",
    "# Fixed the demo consolitade tables for p2p, as it did not include the weighting\n",
    "# Made it a bit clearer how i was going to proceed (distinguishing the simple subewight/weight compared to the groupby process)\n",
    "# for that i needed to move some stuff around but its (nearly) the same code. Also added my version of the P2P column and used that instead\n",
    "# of the inherited column from the Excel file\n",
    "# Added p2p stuggling + average savings + average credit score\n",
    "# Addded \"sample\" to multi index tables\n",
    "# swapped al hard code instances of April 2023 for current_month text object\n",
    "\n",
    "## Next up: started doing share using select credit products and already added the demo split by financial status,\n",
    "## need to create the rest of splits then consolidate all in one large table\n",
    "## my intention is continuing to append results into cproducts_tc; loop established for p2p split should work for the rest\n",
    "\n",
    "# Q&A calculator"
   ]
  },
  {
   "cell_type": "markdown",
   "id": "fb87f2c1",
   "metadata": {},
   "source": [
    "## Setting up the Lending Club time comparisons\n",
    "\n",
    "First: share living paycheck to paycheck by time"
   ]
  },
  {
   "cell_type": "markdown",
   "id": "81cbff71",
   "metadata": {},
   "source": [
    "**Importing libraries, loading csv**"
   ]
  },
  {
   "cell_type": "code",
   "execution_count": 1,
   "id": "c3cbc769",
   "metadata": {},
   "outputs": [],
   "source": [
    "import os\n",
    "import numpy as np\n",
    "import pandas as pd\n",
    "from datetime import datetime"
   ]
  },
  {
   "cell_type": "code",
   "execution_count": 2,
   "id": "d56eb4ba",
   "metadata": {},
   "outputs": [],
   "source": [
    "dir_path = 'C:/Users/marco/Dropbox (MPD)/Analytics Argentina/Billable products/Surveys/Lending Club/All RDs'\n",
    "\n",
    "# Change the working directory to the specified path\n",
    "os.chdir(dir_path)"
   ]
  },
  {
   "cell_type": "code",
   "execution_count": 3,
   "id": "b1d35255",
   "metadata": {},
   "outputs": [],
   "source": [
    "# Needs to be updated periodically\n",
    "\n",
    "current_month = \"April 2023\"\n",
    "current_order = ['November 2021','December 2021','January 2022','February 2022', 'March 2022','April 2022',\n",
    "                 'May 2022', \"June 2022\", \"July 2022\", \"August 2022\", \"September 2022\", \"October 2022\",\n",
    "                 \"November 2022\", \"December 2022\", \"January 2023\",'February 2023',\"March 2023\",\"April 2023\"]"
   ]
  },
  {
   "cell_type": "code",
   "execution_count": 4,
   "id": "65330a02",
   "metadata": {},
   "outputs": [
    {
     "name": "stdout",
     "output_type": "stream",
     "text": [
      "Load successful. 3652 rows and 277 columns loaded into dataframe\n"
     ]
    }
   ],
   "source": [
    "#Setting up dataframe + codebook\n",
    "\n",
    "df=pd.read_csv('LC18.csv', low_memory=False) #harcoded reference\n",
    "\n",
    "#double header, will create a codebook but for now im just keeping the code and not the description\n",
    "df=df.drop(0)\n",
    "# it imported some whitenoise, as all responses must have a startdate\n",
    "df=df[df[\"StartDate\"].notnull()]\n",
    " # No test responses considered\n",
    "df=df[df[\"Status\"]==\"IP Address\"]\n",
    "\n",
    "print(f\"Load successful. {df.shape[0]} rows and {df.shape[1]} columns loaded into dataframe\")\n",
    "\n",
    "codebook=pd.read_csv('LC18.csv', low_memory=False)\n",
    "codebook=codebook.loc[0].to_dict()"
   ]
  },
  {
   "cell_type": "markdown",
   "id": "79b516a9",
   "metadata": {},
   "source": [
    "### Pre processing"
   ]
  },
  {
   "cell_type": "code",
   "execution_count": 5,
   "id": "ec9ec22c",
   "metadata": {},
   "outputs": [
    {
     "name": "stdout",
     "output_type": "stream",
     "text": [
      "Check dates: look ok?\n",
      "['2023-04-03' '2023-04-04' '2023-04-05' '2023-04-06' '2023-04-07'\n",
      " '2023-04-08' '2023-04-09' '2023-04-10' '2023-04-11' '2023-04-12'\n",
      " '2023-04-13' '2023-04-14' '2023-04-15' '2023-04-16' '2023-04-17']\n"
     ]
    }
   ],
   "source": [
    "# Need to format dates because they got imported as numbers\n",
    "\n",
    "date_columns=['StartDate','EndDate']\n",
    "for col in date_columns:\n",
    "    df[col] = df[col].astype(float)\n",
    "    df[col] = df[col].astype(int)\n",
    "    df[col]= df[col]+ 693594 # Offset for converting to a valid date in the Gregorian calendar\n",
    "    df[col] = df[col].apply(lambda x: datetime.fromordinal(x))\n",
    "    df[col] = df[col].apply(lambda x: x.strftime('%Y-%m-%d'))\n",
    "    \n",
    "print('Check dates: look ok?')\n",
    "print(np.sort(df.EndDate.unique()))"
   ]
  },
  {
   "cell_type": "code",
   "execution_count": 6,
   "id": "1c98b000",
   "metadata": {},
   "outputs": [
    {
     "name": "stdout",
     "output_type": "stream",
     "text": [
      "Weight sum should be 260M or similar\n",
      "260086951.46169\n"
     ]
    }
   ],
   "source": [
    "# Need to format weight as a float\n",
    "\n",
    "df.weight=df.weight.astype(float)\n",
    "print(\"Weight sum should be 260M or similar\")\n",
    "print(df.weight.sum())"
   ]
  },
  {
   "cell_type": "markdown",
   "id": "3c9cccde",
   "metadata": {},
   "source": [
    "### Share of consumers living paycheck to paycheck"
   ]
  },
  {
   "cell_type": "code",
   "execution_count": 7,
   "id": "c4d705da",
   "metadata": {},
   "outputs": [],
   "source": [
    "# defining a function that helps me find codes for questions\n",
    "#searching the codebook, as raw data has been stripped of the description\n",
    "\n",
    "def q_finder(word_to_find):\n",
    "    for key, value in codebook.items():\n",
    "        if word_to_find in value.lower():\n",
    "            print(f\"Word '{word_to_find}' found in key: {key}\")"
   ]
  },
  {
   "cell_type": "code",
   "execution_count": 8,
   "id": "f9c95829",
   "metadata": {},
   "outputs": [
    {
     "name": "stdout",
     "output_type": "stream",
     "text": [
      "Word 'financial lifestyle' found in key: D15\n"
     ]
    },
    {
     "data": {
      "text/plain": [
       "array(['I live paycheck to paycheck and have issues paying my bills each month.',\n",
       "       'I live paycheck to paycheck but am comfortably paying my bills each month.',\n",
       "       'I do not live paycheck to paycheck and have more than enough earnings to cover my bills each month.'],\n",
       "      dtype=object)"
      ]
     },
     "execution_count": 8,
     "metadata": {},
     "output_type": "execute_result"
    }
   ],
   "source": [
    "# Analysis needs financial lifestyle column as an input\n",
    "\n",
    "q_finder('financial lifestyle')\n",
    "df.D15.unique()"
   ]
  },
  {
   "cell_type": "code",
   "execution_count": 9,
   "id": "8f599e73",
   "metadata": {},
   "outputs": [],
   "source": [
    "#Full description is too long\n",
    "#Three mappings: Changing from first person to neutral wording, another for shorthand acess and a two group-only version\n",
    "#im appling the first directly into D15; this is means overwrite the raw data but i really see no use in the original wording\n",
    "\n",
    "p2p_cleaner = {'I live paycheck to paycheck and have issues paying my bills each month.': 'Paycheck to paycheck and struggling',\n",
    "           'I live paycheck to paycheck but am comfortably paying my bills each month.': 'Paycheck to paycheck but not struggling',\n",
    "           'I do not live paycheck to paycheck and have more than enough earnings to cover my bills each month.': 'Not paycheck to paycheck'}\n",
    "\n",
    "df.D15=df.D15.map(p2p_cleaner)\n",
    "\n",
    "#\n",
    "\n",
    "p2p_short = {'Paycheck to paycheck and struggling':'Struggle',\n",
    "           'Paycheck to paycheck but not struggling': 'P2P',\n",
    "           'Not paycheck to paycheck':'NotP2P'}\n",
    "\n",
    "df['D15_short']=df.D15.map(p2p_short)\n",
    "\n",
    "#\n",
    "\n",
    "p2p_TwoGroups = {'Paycheck to paycheck and struggling':'P2P',\n",
    "           'Paycheck to paycheck but not struggling': 'P2P',\n",
    "           'Not paycheck to paycheck':'NotP2P'}\n",
    "\n",
    "df['D15_TwoGroups']=df.D15.map(p2p_TwoGroups)\n",
    "\n",
    "# establishing the predifined order for later on:\n",
    "p2p_order = ['Paycheck to paycheck and struggling','Paycheck to paycheck but not struggling','Not paycheck to paycheck']"
   ]
  },
  {
   "cell_type": "code",
   "execution_count": 10,
   "id": "2c780215",
   "metadata": {},
   "outputs": [
    {
     "name": "stdout",
     "output_type": "stream",
     "text": [
      "['Paycheck to paycheck and struggling'\n",
      " 'Paycheck to paycheck but not struggling' 'Not paycheck to paycheck']\n",
      "**********\n",
      "['Struggle' 'P2P' 'NotP2P']\n",
      "**********\n",
      "['P2P' 'NotP2P']\n",
      "**********\n",
      "0 null values in target column\n"
     ]
    }
   ],
   "source": [
    "# checking\n",
    "\n",
    "print(df.D15.unique())\n",
    "print(\"*\"*10)\n",
    "print(df.D15_short.unique())\n",
    "print(\"*\"*10)\n",
    "print(df.D15_TwoGroups.unique()) # it's central to the analysis that there are no values outside the three expected values\n",
    "print(\"*\"*10)\n",
    "print(f'{df.D15.isnull().sum()} null values in target column')"
   ]
  },
  {
   "cell_type": "markdown",
   "id": "0e30bd73",
   "metadata": {},
   "source": [
    "### Share of consumers living paycheck to paycheck"
   ]
  },
  {
   "cell_type": "code",
   "execution_count": 11,
   "id": "305dcad5",
   "metadata": {},
   "outputs": [
    {
     "data": {
      "text/html": [
       "<div>\n",
       "<style scoped>\n",
       "    .dataframe tbody tr th:only-of-type {\n",
       "        vertical-align: middle;\n",
       "    }\n",
       "\n",
       "    .dataframe tbody tr th {\n",
       "        vertical-align: top;\n",
       "    }\n",
       "\n",
       "    .dataframe thead th {\n",
       "        text-align: right;\n",
       "    }\n",
       "</style>\n",
       "<table border=\"1\" class=\"dataframe\">\n",
       "  <thead>\n",
       "    <tr style=\"text-align: right;\">\n",
       "      <th></th>\n",
       "      <th>Two-level</th>\n",
       "      <th>April 2023</th>\n",
       "    </tr>\n",
       "    <tr>\n",
       "      <th>Group</th>\n",
       "      <th></th>\n",
       "      <th></th>\n",
       "    </tr>\n",
       "  </thead>\n",
       "  <tbody>\n",
       "    <tr>\n",
       "      <th>Sample</th>\n",
       "      <td>Sample</td>\n",
       "      <td>0.611014</td>\n",
       "    </tr>\n",
       "  </tbody>\n",
       "</table>\n",
       "</div>"
      ],
      "text/plain": [
       "       Two-level  April 2023\n",
       "Group                       \n",
       "Sample    Sample    0.611014"
      ]
     },
     "execution_count": 11,
     "metadata": {},
     "output_type": "execute_result"
    }
   ],
   "source": [
    "# the process is simple. you define a group (First it will be the whole sample) and split by financial lifestyle\n",
    "# add up all the weights in the p2p subgroup then divide by the summed weights in the whole set\n",
    "# then storing results in dataframe, this will simplify compilying over time and demo afterwards\n",
    "\n",
    "wSample=df.weight.sum()\n",
    "ppwSample=df[df['D15_TwoGroups']=='P2P']['weight'].sum()\n",
    "sample_share=ppwSample/wSample\n",
    "\n",
    "# this might look weird at this point, but i already know the shape of the dataframe i'll want down the road so im doing some\n",
    "# tweaks to the dataframe: adding another column that specifies among what consumers im calculating (in this case sample)\n",
    "# also renaming the axes to \"Group\", given that i may have the same calculation for different groups in a same table\n",
    "\n",
    "sample_share=pd.DataFrame(sample_share, index=['Sample'], columns=[current_month])\n",
    "sample_share=sample_share.rename_axis('Group')\n",
    "sample_share.insert(0,\"Two-level\",'Sample') #hard coded\n",
    "sample_share"
   ]
  },
  {
   "cell_type": "code",
   "execution_count": 12,
   "id": "fc897abb",
   "metadata": {},
   "outputs": [
    {
     "data": {
      "text/html": [
       "<div>\n",
       "<style scoped>\n",
       "    .dataframe tbody tr th:only-of-type {\n",
       "        vertical-align: middle;\n",
       "    }\n",
       "\n",
       "    .dataframe tbody tr th {\n",
       "        vertical-align: top;\n",
       "    }\n",
       "\n",
       "    .dataframe thead th {\n",
       "        text-align: right;\n",
       "    }\n",
       "</style>\n",
       "<table border=\"1\" class=\"dataframe\">\n",
       "  <thead>\n",
       "    <tr style=\"text-align: right;\">\n",
       "      <th></th>\n",
       "      <th>Two-level</th>\n",
       "      <th>April 2023</th>\n",
       "    </tr>\n",
       "    <tr>\n",
       "      <th>Group</th>\n",
       "      <th></th>\n",
       "      <th></th>\n",
       "    </tr>\n",
       "  </thead>\n",
       "  <tbody>\n",
       "    <tr>\n",
       "      <th>Paycheck to paycheck and struggling</th>\n",
       "      <td>Sample</td>\n",
       "      <td>0.192258</td>\n",
       "    </tr>\n",
       "    <tr>\n",
       "      <th>Paycheck to paycheck but not struggling</th>\n",
       "      <td>Sample</td>\n",
       "      <td>0.418757</td>\n",
       "    </tr>\n",
       "    <tr>\n",
       "      <th>Not paycheck to paycheck</th>\n",
       "      <td>Sample</td>\n",
       "      <td>0.388986</td>\n",
       "    </tr>\n",
       "  </tbody>\n",
       "</table>\n",
       "</div>"
      ],
      "text/plain": [
       "                                        Two-level  April 2023\n",
       "Group                                                        \n",
       "Paycheck to paycheck and struggling        Sample    0.192258\n",
       "Paycheck to paycheck but not struggling    Sample    0.418757\n",
       "Not paycheck to paycheck                   Sample    0.388986"
      ]
     },
     "execution_count": 12,
     "metadata": {},
     "output_type": "execute_result"
    }
   ],
   "source": [
    "# Getting the shares for each group instead of one metric is (slightly) different\n",
    "# using groupby to sum weights per group, then again divide by the total weight\n",
    "\n",
    "# Splitting sample by p2p status + summing weights\n",
    "p2p_groups=df.groupby('D15') #hard coded\n",
    "p2p_weight_subtotals = p2p_groups['weight'].sum()\n",
    "\n",
    "#total weights (denominator)\n",
    "total_weight = p2p_weight_subtotals.sum()\n",
    "weight_shares = p2p_weight_subtotals / total_weight\n",
    "\n",
    "sample_p2p_shares = pd.DataFrame({current_month: weight_shares}) #Date is hard coded\n",
    "\n",
    "# same edits to the dataframe\n",
    "\n",
    "sample_p2p_shares=sample_p2p_shares.reindex(p2p_order)\n",
    "sample_p2p_shares=sample_p2p_shares.rename_axis('Group')\n",
    "sample_p2p_shares.insert(0,\"Two-level\",'Sample')\n",
    "sample_p2p_shares"
   ]
  },
  {
   "cell_type": "code",
   "execution_count": 13,
   "id": "40770ac9",
   "metadata": {},
   "outputs": [
    {
     "data": {
      "text/plain": [
       "1.0"
      ]
     },
     "execution_count": 13,
     "metadata": {},
     "output_type": "execute_result"
    }
   ],
   "source": [
    "sample_p2p_shares['April 2023'].sum()"
   ]
  },
  {
   "cell_type": "markdown",
   "id": "b3e871ab",
   "metadata": {},
   "source": [
    "#### Share of consumers living paycheck to paycheck: Demo comparisons"
   ]
  },
  {
   "cell_type": "code",
   "execution_count": 146,
   "id": "1366b2f5",
   "metadata": {},
   "outputs": [],
   "source": [
    "# process is the same, only difference is that i need to get all the denominators first which is the population of each demo group\n",
    "# defining my target demographic subsets and the respective populations by split\n",
    "# Age, income (3 and 5 splits), and gender. P2P not included because its the baseline split\n",
    "\n",
    "wP2P = df.groupby('D15')['weight'].sum()\n",
    "wP2P_TwoGroups = df.groupby('D15_TwoGroups')['weight'].sum()\n",
    "wGens = df.groupby('Generation')['weight'].sum()\n",
    "wIncome5 = df.groupby('Q_income_RB')['weight'].sum()\n",
    "wIncome3 = df.groupby('income_3G')['weight'].sum()\n",
    "wGender = df.groupby('L_gender')['weight'].sum()"
   ]
  },
  {
   "cell_type": "code",
   "execution_count": 15,
   "id": "437a0b2d",
   "metadata": {},
   "outputs": [
    {
     "name": "stdout",
     "output_type": "stream",
     "text": [
      "Number of consumers by generation (should add up to 260 or similar):\n",
      "Generation\n",
      "Baby boomers and seniors    90.439987\n",
      "Generation X                63.392723\n",
      "Generation Z                31.732627\n",
      "Millennials                 74.521614\n",
      "Name: weight, dtype: float64\n",
      "**********\n",
      "Share of consumers by income:\n",
      "Q_income_RB\n",
      "$100K-$150K    0.179064\n",
      "$150K-$200K    0.088617\n",
      "$200K-$250K    0.040706\n",
      "$250K+         0.062430\n",
      "$50K-$100K     0.301647\n",
      "Under $50K     0.327870\n",
      "Name: weight, dtype: float64\n"
     ]
    }
   ],
   "source": [
    "# Two silly checks  \n",
    "print(\"Number of consumers by generation (should add up to 260 or similar):\")\n",
    "print(wGens/1000000)\n",
    "print(\"*\"*10)\n",
    "print(\"Share of consumers by income:\")\n",
    "print(wIncome5/260000000) #go back and ensure these shares match the current lending analysis)"
   ]
  },
  {
   "cell_type": "code",
   "execution_count": 16,
   "id": "a54f767a",
   "metadata": {},
   "outputs": [],
   "source": [
    "# paycheck to paycheck populations withing each subgroup of each split\n",
    "\n",
    "ppwGens=df[df['D15_TwoGroups']=='P2P'].groupby('Generation')['weight'].sum()\n",
    "ppwInc5=df[df['D15_TwoGroups']=='P2P'].groupby('Q_income_RB')['weight'].sum()\n",
    "ppwInc3=df[df['D15_TwoGroups']=='P2P'].groupby('income_3G')['weight'].sum()\n",
    "ppwGender=df[df['D15_TwoGroups']=='P2P'].groupby('L_gender')['weight'].sum()"
   ]
  },
  {
   "cell_type": "code",
   "execution_count": 17,
   "id": "8039b82b",
   "metadata": {},
   "outputs": [
    {
     "data": {
      "text/plain": [
       "Generation\n",
       "Baby boomers and seniors    0.502782\n",
       "Generation X                0.631301\n",
       "Generation Z                0.579320\n",
       "Millennials                 0.738606\n",
       "Name: weight, dtype: float64"
      ]
     },
     "execution_count": 17,
     "metadata": {},
     "output_type": "execute_result"
    }
   ],
   "source": [
    "# eyeball shares of p2p by generation, make sense?\n",
    "ppwGens/wGens"
   ]
  },
  {
   "cell_type": "markdown",
   "id": "5acbcf8d",
   "metadata": {},
   "source": [
    "#### Consolidating a demo p2p time comparison single table"
   ]
  },
  {
   "cell_type": "code",
   "execution_count": 18,
   "id": "84579716",
   "metadata": {},
   "outputs": [
    {
     "data": {
      "text/html": [
       "<div>\n",
       "<style scoped>\n",
       "    .dataframe tbody tr th:only-of-type {\n",
       "        vertical-align: middle;\n",
       "    }\n",
       "\n",
       "    .dataframe tbody tr th {\n",
       "        vertical-align: top;\n",
       "    }\n",
       "\n",
       "    .dataframe thead th {\n",
       "        text-align: right;\n",
       "    }\n",
       "</style>\n",
       "<table border=\"1\" class=\"dataframe\">\n",
       "  <thead>\n",
       "    <tr style=\"text-align: right;\">\n",
       "      <th></th>\n",
       "      <th>Two-level</th>\n",
       "      <th>April 2023</th>\n",
       "    </tr>\n",
       "    <tr>\n",
       "      <th>Group</th>\n",
       "      <th></th>\n",
       "      <th></th>\n",
       "    </tr>\n",
       "  </thead>\n",
       "  <tbody>\n",
       "    <tr>\n",
       "      <th>Generation Z</th>\n",
       "      <td>Generation</td>\n",
       "      <td>0.579320</td>\n",
       "    </tr>\n",
       "    <tr>\n",
       "      <th>Millennials</th>\n",
       "      <td>Generation</td>\n",
       "      <td>0.738606</td>\n",
       "    </tr>\n",
       "    <tr>\n",
       "      <th>Generation X</th>\n",
       "      <td>Generation</td>\n",
       "      <td>0.631301</td>\n",
       "    </tr>\n",
       "    <tr>\n",
       "      <th>Baby boomers and seniors</th>\n",
       "      <td>Generation</td>\n",
       "      <td>0.502782</td>\n",
       "    </tr>\n",
       "  </tbody>\n",
       "</table>\n",
       "</div>"
      ],
      "text/plain": [
       "                           Two-level  April 2023\n",
       "Group                                           \n",
       "Generation Z              Generation    0.579320\n",
       "Millennials               Generation    0.738606\n",
       "Generation X              Generation    0.631301\n",
       "Baby boomers and seniors  Generation    0.502782"
      ]
     },
     "execution_count": 18,
     "metadata": {},
     "output_type": "execute_result"
    }
   ],
   "source": [
    "# Generations\n",
    "gen_shares=ppwGens/wGens\n",
    "gen_shares=pd.DataFrame(index=gen_shares.index, data=gen_shares.values, columns=['April 2023'])\n",
    "gen_order = ['Generation Z', 'Millennials', 'Generation X','Baby boomers and seniors']\n",
    "gen_shares=gen_shares.reindex(gen_order)\n",
    "gen_shares=gen_shares.rename_axis('Group')\n",
    "gen_shares.insert(0,\"Two-level\",'Generation') #hard coded\n",
    "gen_shares"
   ]
  },
  {
   "cell_type": "code",
   "execution_count": 19,
   "id": "4067e439",
   "metadata": {
    "scrolled": true
   },
   "outputs": [
    {
     "data": {
      "text/html": [
       "<div>\n",
       "<style scoped>\n",
       "    .dataframe tbody tr th:only-of-type {\n",
       "        vertical-align: middle;\n",
       "    }\n",
       "\n",
       "    .dataframe tbody tr th {\n",
       "        vertical-align: top;\n",
       "    }\n",
       "\n",
       "    .dataframe thead th {\n",
       "        text-align: right;\n",
       "    }\n",
       "</style>\n",
       "<table border=\"1\" class=\"dataframe\">\n",
       "  <thead>\n",
       "    <tr style=\"text-align: right;\">\n",
       "      <th></th>\n",
       "      <th>Two-level</th>\n",
       "      <th>April 2023</th>\n",
       "    </tr>\n",
       "    <tr>\n",
       "      <th>Group</th>\n",
       "      <th></th>\n",
       "      <th></th>\n",
       "    </tr>\n",
       "  </thead>\n",
       "  <tbody>\n",
       "    <tr>\n",
       "      <th>Under $50K</th>\n",
       "      <td>Income 5</td>\n",
       "      <td>0.734465</td>\n",
       "    </tr>\n",
       "    <tr>\n",
       "      <th>$50K-$100K</th>\n",
       "      <td>Income 5</td>\n",
       "      <td>0.628859</td>\n",
       "    </tr>\n",
       "    <tr>\n",
       "      <th>$100K-$150K</th>\n",
       "      <td>Income 5</td>\n",
       "      <td>0.565786</td>\n",
       "    </tr>\n",
       "    <tr>\n",
       "      <th>$150K-$200K</th>\n",
       "      <td>Income 5</td>\n",
       "      <td>0.530463</td>\n",
       "    </tr>\n",
       "    <tr>\n",
       "      <th>$200K-$250K</th>\n",
       "      <td>Income 5</td>\n",
       "      <td>0.450734</td>\n",
       "    </tr>\n",
       "    <tr>\n",
       "      <th>$250K+</th>\n",
       "      <td>Income 5</td>\n",
       "      <td>0.225025</td>\n",
       "    </tr>\n",
       "  </tbody>\n",
       "</table>\n",
       "</div>"
      ],
      "text/plain": [
       "            Two-level  April 2023\n",
       "Group                            \n",
       "Under $50K   Income 5    0.734465\n",
       "$50K-$100K   Income 5    0.628859\n",
       "$100K-$150K  Income 5    0.565786\n",
       "$150K-$200K  Income 5    0.530463\n",
       "$200K-$250K  Income 5    0.450734\n",
       "$250K+       Income 5    0.225025"
      ]
     },
     "execution_count": 19,
     "metadata": {},
     "output_type": "execute_result"
    }
   ],
   "source": [
    "#B) Income: 5 groups\n",
    "\n",
    "income5_shares=ppwInc5/wIncome5\n",
    "income5_shares=pd.DataFrame(index=income5_shares.index, data=income5_shares.values, columns=['April 2023'])\n",
    "inc5_order = ['Under $50K', '$50K-$100K', '$100K-$150K','$150K-$200K','$200K-$250K','$250K+']\n",
    "income5_shares=income5_shares.reindex(inc5_order)\n",
    "income5_shares=income5_shares.rename_axis('Group')\n",
    "income5_shares.insert(0,\"Two-level\",'Income 5') #hard coded\n",
    "income5_shares"
   ]
  },
  {
   "cell_type": "code",
   "execution_count": 20,
   "id": "0f5606a6",
   "metadata": {},
   "outputs": [
    {
     "data": {
      "text/html": [
       "<div>\n",
       "<style scoped>\n",
       "    .dataframe tbody tr th:only-of-type {\n",
       "        vertical-align: middle;\n",
       "    }\n",
       "\n",
       "    .dataframe tbody tr th {\n",
       "        vertical-align: top;\n",
       "    }\n",
       "\n",
       "    .dataframe thead th {\n",
       "        text-align: right;\n",
       "    }\n",
       "</style>\n",
       "<table border=\"1\" class=\"dataframe\">\n",
       "  <thead>\n",
       "    <tr style=\"text-align: right;\">\n",
       "      <th></th>\n",
       "      <th>Two-level</th>\n",
       "      <th>April 2023</th>\n",
       "    </tr>\n",
       "    <tr>\n",
       "      <th>Group</th>\n",
       "      <th></th>\n",
       "      <th></th>\n",
       "    </tr>\n",
       "  </thead>\n",
       "  <tbody>\n",
       "    <tr>\n",
       "      <th>Under $50K</th>\n",
       "      <td>Income 3</td>\n",
       "      <td>0.734465</td>\n",
       "    </tr>\n",
       "    <tr>\n",
       "      <th>$50K-$100K</th>\n",
       "      <td>Income 3</td>\n",
       "      <td>0.628859</td>\n",
       "    </tr>\n",
       "    <tr>\n",
       "      <th>$100K+</th>\n",
       "      <td>Income 3</td>\n",
       "      <td>0.487345</td>\n",
       "    </tr>\n",
       "  </tbody>\n",
       "</table>\n",
       "</div>"
      ],
      "text/plain": [
       "           Two-level  April 2023\n",
       "Group                           \n",
       "Under $50K  Income 3    0.734465\n",
       "$50K-$100K  Income 3    0.628859\n",
       "$100K+      Income 3    0.487345"
      ]
     },
     "execution_count": 20,
     "metadata": {},
     "output_type": "execute_result"
    }
   ],
   "source": [
    "#C) Income: 3 groups\n",
    "\n",
    "income3_shares=ppwInc3/wIncome3\n",
    "income3_shares=pd.DataFrame(index=income3_shares.index, data=income3_shares.values, columns=['April 2023'])\n",
    "inc3_order = ['Under $50K', '$50K-$100K', '$100K+']\n",
    "income3_shares=income3_shares.reindex(inc3_order)\n",
    "income3_shares=income3_shares.rename_axis('Group')\n",
    "income3_shares.insert(0,\"Two-level\",'Income 3') #hard coded\n",
    "income3_shares"
   ]
  },
  {
   "cell_type": "code",
   "execution_count": 21,
   "id": "0934a74e",
   "metadata": {},
   "outputs": [
    {
     "data": {
      "text/html": [
       "<div>\n",
       "<style scoped>\n",
       "    .dataframe tbody tr th:only-of-type {\n",
       "        vertical-align: middle;\n",
       "    }\n",
       "\n",
       "    .dataframe tbody tr th {\n",
       "        vertical-align: top;\n",
       "    }\n",
       "\n",
       "    .dataframe thead th {\n",
       "        text-align: right;\n",
       "    }\n",
       "</style>\n",
       "<table border=\"1\" class=\"dataframe\">\n",
       "  <thead>\n",
       "    <tr style=\"text-align: right;\">\n",
       "      <th></th>\n",
       "      <th>Two-level</th>\n",
       "      <th>April 2023</th>\n",
       "    </tr>\n",
       "    <tr>\n",
       "      <th>Group</th>\n",
       "      <th></th>\n",
       "      <th></th>\n",
       "    </tr>\n",
       "  </thead>\n",
       "  <tbody>\n",
       "    <tr>\n",
       "      <th>Female</th>\n",
       "      <td>Gender</td>\n",
       "      <td>0.602851</td>\n",
       "    </tr>\n",
       "    <tr>\n",
       "      <th>Male</th>\n",
       "      <td>Gender</td>\n",
       "      <td>0.619638</td>\n",
       "    </tr>\n",
       "  </tbody>\n",
       "</table>\n",
       "</div>"
      ],
      "text/plain": [
       "       Two-level  April 2023\n",
       "Group                       \n",
       "Female    Gender    0.602851\n",
       "Male      Gender    0.619638"
      ]
     },
     "execution_count": 21,
     "metadata": {},
     "output_type": "execute_result"
    }
   ],
   "source": [
    "# Gender\n",
    "\n",
    "gender_shares=ppwGender/wGender\n",
    "gender_shares=pd.DataFrame(index=gender_shares.index, data=gender_shares.values, columns=['April 2023'])\n",
    "gender_order = ['Female', 'Male']\n",
    "gender_shares=gender_shares.reindex(gender_order)\n",
    "gender_shares=gender_shares.rename_axis('Group')\n",
    "gender_shares.insert(0,\"Two-level\",'Gender') #hard coded\n",
    "gender_shares"
   ]
  },
  {
   "cell_type": "code",
   "execution_count": 22,
   "id": "98524eab",
   "metadata": {},
   "outputs": [
    {
     "data": {
      "text/html": [
       "<div>\n",
       "<style scoped>\n",
       "    .dataframe tbody tr th:only-of-type {\n",
       "        vertical-align: middle;\n",
       "    }\n",
       "\n",
       "    .dataframe tbody tr th {\n",
       "        vertical-align: top;\n",
       "    }\n",
       "\n",
       "    .dataframe thead th {\n",
       "        text-align: right;\n",
       "    }\n",
       "</style>\n",
       "<table border=\"1\" class=\"dataframe\">\n",
       "  <thead>\n",
       "    <tr style=\"text-align: right;\">\n",
       "      <th></th>\n",
       "      <th>Two-level</th>\n",
       "      <th>April 2023</th>\n",
       "    </tr>\n",
       "    <tr>\n",
       "      <th>Group</th>\n",
       "      <th></th>\n",
       "      <th></th>\n",
       "    </tr>\n",
       "  </thead>\n",
       "  <tbody>\n",
       "    <tr>\n",
       "      <th>Sample</th>\n",
       "      <td>Sample</td>\n",
       "      <td>0.611014</td>\n",
       "    </tr>\n",
       "    <tr>\n",
       "      <th>Generation Z</th>\n",
       "      <td>Generation</td>\n",
       "      <td>0.579320</td>\n",
       "    </tr>\n",
       "    <tr>\n",
       "      <th>Millennials</th>\n",
       "      <td>Generation</td>\n",
       "      <td>0.738606</td>\n",
       "    </tr>\n",
       "    <tr>\n",
       "      <th>Generation X</th>\n",
       "      <td>Generation</td>\n",
       "      <td>0.631301</td>\n",
       "    </tr>\n",
       "    <tr>\n",
       "      <th>Baby boomers and seniors</th>\n",
       "      <td>Generation</td>\n",
       "      <td>0.502782</td>\n",
       "    </tr>\n",
       "    <tr>\n",
       "      <th>Under $50K</th>\n",
       "      <td>Income 3</td>\n",
       "      <td>0.734465</td>\n",
       "    </tr>\n",
       "    <tr>\n",
       "      <th>$50K-$100K</th>\n",
       "      <td>Income 3</td>\n",
       "      <td>0.628859</td>\n",
       "    </tr>\n",
       "    <tr>\n",
       "      <th>$100K+</th>\n",
       "      <td>Income 3</td>\n",
       "      <td>0.487345</td>\n",
       "    </tr>\n",
       "    <tr>\n",
       "      <th>Under $50K</th>\n",
       "      <td>Income 5</td>\n",
       "      <td>0.734465</td>\n",
       "    </tr>\n",
       "    <tr>\n",
       "      <th>$50K-$100K</th>\n",
       "      <td>Income 5</td>\n",
       "      <td>0.628859</td>\n",
       "    </tr>\n",
       "    <tr>\n",
       "      <th>$100K-$150K</th>\n",
       "      <td>Income 5</td>\n",
       "      <td>0.565786</td>\n",
       "    </tr>\n",
       "    <tr>\n",
       "      <th>$150K-$200K</th>\n",
       "      <td>Income 5</td>\n",
       "      <td>0.530463</td>\n",
       "    </tr>\n",
       "    <tr>\n",
       "      <th>$200K-$250K</th>\n",
       "      <td>Income 5</td>\n",
       "      <td>0.450734</td>\n",
       "    </tr>\n",
       "    <tr>\n",
       "      <th>$250K+</th>\n",
       "      <td>Income 5</td>\n",
       "      <td>0.225025</td>\n",
       "    </tr>\n",
       "    <tr>\n",
       "      <th>Female</th>\n",
       "      <td>Gender</td>\n",
       "      <td>0.602851</td>\n",
       "    </tr>\n",
       "    <tr>\n",
       "      <th>Male</th>\n",
       "      <td>Gender</td>\n",
       "      <td>0.619638</td>\n",
       "    </tr>\n",
       "  </tbody>\n",
       "</table>\n",
       "</div>"
      ],
      "text/plain": [
       "                           Two-level  April 2023\n",
       "Group                                           \n",
       "Sample                        Sample    0.611014\n",
       "Generation Z              Generation    0.579320\n",
       "Millennials               Generation    0.738606\n",
       "Generation X              Generation    0.631301\n",
       "Baby boomers and seniors  Generation    0.502782\n",
       "Under $50K                  Income 3    0.734465\n",
       "$50K-$100K                  Income 3    0.628859\n",
       "$100K+                      Income 3    0.487345\n",
       "Under $50K                  Income 5    0.734465\n",
       "$50K-$100K                  Income 5    0.628859\n",
       "$100K-$150K                 Income 5    0.565786\n",
       "$150K-$200K                 Income 5    0.530463\n",
       "$200K-$250K                 Income 5    0.450734\n",
       "$250K+                      Income 5    0.225025\n",
       "Female                        Gender    0.602851\n",
       "Male                          Gender    0.619638"
      ]
     },
     "execution_count": 22,
     "metadata": {},
     "output_type": "execute_result"
    }
   ],
   "source": [
    "## Putting it all toghether\n",
    "p2p_all_demos=pd.concat([sample_share,gen_shares,income3_shares,income5_shares,gender_shares],axis=0)\n",
    "p2p_all_demos"
   ]
  },
  {
   "cell_type": "markdown",
   "id": "884a6e92",
   "metadata": {},
   "source": [
    "### Share of consumers struggling to pay bills"
   ]
  },
  {
   "cell_type": "code",
   "execution_count": 23,
   "id": "4f4f3e79",
   "metadata": {},
   "outputs": [],
   "source": [
    "# financially struggling populations withing each subgroup of each split\n",
    "\n",
    "ppswSample=df[df['D15']=='Paycheck to paycheck and struggling']['weight'].sum()\n",
    "ppswGens=df[df['D15']=='Paycheck to paycheck and struggling'].groupby('Generation')['weight'].sum() \n",
    "ppswInc5=df[df['D15']=='Paycheck to paycheck and struggling'].groupby('Q_income_RB')['weight'].sum()\n",
    "ppswInc3=df[df['D15']=='Paycheck to paycheck and struggling'].groupby('income_3G')['weight'].sum()\n",
    "ppswGender=df[df['D15']=='Paycheck to paycheck and struggling'].groupby('L_gender')['weight'].sum()"
   ]
  },
  {
   "cell_type": "code",
   "execution_count": 24,
   "id": "ec8e5aeb",
   "metadata": {},
   "outputs": [
    {
     "data": {
      "text/plain": [
       "income_3G\n",
       "$100K+        0.121330\n",
       "$50K-$100K    0.170963\n",
       "Under $50K    0.292067\n",
       "Name: weight, dtype: float64"
      ]
     },
     "execution_count": 24,
     "metadata": {},
     "output_type": "execute_result"
    }
   ],
   "source": [
    "# eyeballing one example - income 3g\n",
    "ppswInc3/wIncome3"
   ]
  },
  {
   "cell_type": "markdown",
   "id": "d55bffe8",
   "metadata": {},
   "source": [
    "#### Consolidating"
   ]
  },
  {
   "cell_type": "code",
   "execution_count": 25,
   "id": "62b82260",
   "metadata": {},
   "outputs": [
    {
     "data": {
      "text/html": [
       "<div>\n",
       "<style scoped>\n",
       "    .dataframe tbody tr th:only-of-type {\n",
       "        vertical-align: middle;\n",
       "    }\n",
       "\n",
       "    .dataframe tbody tr th {\n",
       "        vertical-align: top;\n",
       "    }\n",
       "\n",
       "    .dataframe thead th {\n",
       "        text-align: right;\n",
       "    }\n",
       "</style>\n",
       "<table border=\"1\" class=\"dataframe\">\n",
       "  <thead>\n",
       "    <tr style=\"text-align: right;\">\n",
       "      <th></th>\n",
       "      <th>Two-level</th>\n",
       "      <th>April 2023</th>\n",
       "    </tr>\n",
       "  </thead>\n",
       "  <tbody>\n",
       "    <tr>\n",
       "      <th>Sample</th>\n",
       "      <td>Sample</td>\n",
       "      <td>0.192258</td>\n",
       "    </tr>\n",
       "    <tr>\n",
       "      <th>Generation Z</th>\n",
       "      <td>Generation</td>\n",
       "      <td>0.155182</td>\n",
       "    </tr>\n",
       "    <tr>\n",
       "      <th>Millennials</th>\n",
       "      <td>Generation</td>\n",
       "      <td>0.287647</td>\n",
       "    </tr>\n",
       "    <tr>\n",
       "      <th>Generation X</th>\n",
       "      <td>Generation</td>\n",
       "      <td>0.179484</td>\n",
       "    </tr>\n",
       "    <tr>\n",
       "      <th>Baby boomers and seniors</th>\n",
       "      <td>Generation</td>\n",
       "      <td>0.135621</td>\n",
       "    </tr>\n",
       "    <tr>\n",
       "      <th>$100K+</th>\n",
       "      <td>Income 3</td>\n",
       "      <td>0.121330</td>\n",
       "    </tr>\n",
       "    <tr>\n",
       "      <th>$50K-$100K</th>\n",
       "      <td>Income 3</td>\n",
       "      <td>0.170963</td>\n",
       "    </tr>\n",
       "    <tr>\n",
       "      <th>Under $50K</th>\n",
       "      <td>Income 3</td>\n",
       "      <td>0.292067</td>\n",
       "    </tr>\n",
       "    <tr>\n",
       "      <th>Under $50K</th>\n",
       "      <td>Income 5</td>\n",
       "      <td>0.292067</td>\n",
       "    </tr>\n",
       "    <tr>\n",
       "      <th>$50K-$100K</th>\n",
       "      <td>Income 5</td>\n",
       "      <td>0.170963</td>\n",
       "    </tr>\n",
       "    <tr>\n",
       "      <th>$100K-$150K</th>\n",
       "      <td>Income 5</td>\n",
       "      <td>0.131667</td>\n",
       "    </tr>\n",
       "    <tr>\n",
       "      <th>$150K-$200K</th>\n",
       "      <td>Income 5</td>\n",
       "      <td>0.142089</td>\n",
       "    </tr>\n",
       "    <tr>\n",
       "      <th>$200K-$250K</th>\n",
       "      <td>Income 5</td>\n",
       "      <td>0.163590</td>\n",
       "    </tr>\n",
       "    <tr>\n",
       "      <th>$250K+</th>\n",
       "      <td>Income 5</td>\n",
       "      <td>0.034661</td>\n",
       "    </tr>\n",
       "    <tr>\n",
       "      <th>Female</th>\n",
       "      <td>Gender</td>\n",
       "      <td>0.171241</td>\n",
       "    </tr>\n",
       "    <tr>\n",
       "      <th>Male</th>\n",
       "      <td>Gender</td>\n",
       "      <td>0.214459</td>\n",
       "    </tr>\n",
       "  </tbody>\n",
       "</table>\n",
       "</div>"
      ],
      "text/plain": [
       "                           Two-level  April 2023\n",
       "Sample                        Sample    0.192258\n",
       "Generation Z              Generation    0.155182\n",
       "Millennials               Generation    0.287647\n",
       "Generation X              Generation    0.179484\n",
       "Baby boomers and seniors  Generation    0.135621\n",
       "$100K+                      Income 3    0.121330\n",
       "$50K-$100K                  Income 3    0.170963\n",
       "Under $50K                  Income 3    0.292067\n",
       "Under $50K                  Income 5    0.292067\n",
       "$50K-$100K                  Income 5    0.170963\n",
       "$100K-$150K                 Income 5    0.131667\n",
       "$150K-$200K                 Income 5    0.142089\n",
       "$200K-$250K                 Income 5    0.163590\n",
       "$250K+                      Income 5    0.034661\n",
       "Female                        Gender    0.171241\n",
       "Male                          Gender    0.214459"
      ]
     },
     "execution_count": 25,
     "metadata": {},
     "output_type": "execute_result"
    }
   ],
   "source": [
    "# Sample\n",
    "\n",
    "struggling_share=ppswSample/wSample\n",
    "\n",
    "struggling_share=pd.DataFrame(struggling_share, index=['Sample'], columns=[current_month])\n",
    "struggling_share=struggling_share.rename_axis('Group')\n",
    "struggling_share.insert(0,\"Two-level\",'Sample') #hard coded\n",
    "struggling_share\n",
    "\n",
    "#A) Generations\n",
    "gen_shares_struggling=ppswGens/wGens\n",
    "gen_shares_struggling=pd.DataFrame(index=gen_shares_struggling.index, data=gen_shares_struggling.values, columns=['April 2023'])\n",
    "gen_shares_struggling=gen_shares_struggling.reindex(gen_order) #order was already defined in p2p section\n",
    "gen_shares_struggling=gen_shares_struggling.rename_axis('Group')\n",
    "gen_shares_struggling.insert(0,\"Two-level\",'Generation') #hard coded\n",
    "\n",
    "#B) Income: 5 groups\n",
    "\n",
    "income5_shares_struggling=ppswInc5/wIncome5\n",
    "income5_shares_struggling=pd.DataFrame(\n",
    "    index=income5_shares_struggling.index, data=income5_shares_struggling.values, columns=['April 2023'])\n",
    "income5_shares_struggling=income5_shares_struggling.reindex(inc5_order)\n",
    "income5_shares_struggling=income5_shares_struggling.rename_axis('Group')\n",
    "income5_shares_struggling.insert(0,\"Two-level\",'Income 5') #hard coded\n",
    "\n",
    "#C) Income: 3 groups\n",
    "\n",
    "income3_shares_struggling=ppswInc3/wIncome3\n",
    "income3_shares_struggling=pd.DataFrame(\n",
    "    index=income3_shares_struggling.index, data=income3_shares_struggling.values, columns=['April 2023'])\n",
    "income3_shares=income3_shares_struggling.reindex(inc3_order)\n",
    "income3_shares=income3_shares_struggling.rename_axis('Group')\n",
    "income3_shares_struggling.insert(0,\"Two-level\",'Income 3') #hard coded\n",
    "\n",
    "\n",
    "#D) Gender\n",
    "\n",
    "gender_shares_struggling=ppswGender/wGender\n",
    "gender_shares_struggling=pd.DataFrame(\n",
    "    index=gender_shares_struggling.index, data=gender_shares_struggling.values, columns=['April 2023'])\n",
    "gender_shares_struggling=gender_shares_struggling.reindex(gender_order)\n",
    "gender_shares_struggling=gender_shares_struggling.rename_axis('Group')\n",
    "gender_shares_struggling.insert(0,\"Two-level\",'Gender') #hard coded\n",
    "\n",
    "## Putting it all toghether\n",
    "p2p_struggling_all_demos=pd.concat(\n",
    "    [struggling_share,gen_shares_struggling,income3_shares_struggling,income5_shares_struggling,gender_shares_struggling],axis=0)\n",
    "p2p_struggling_all_demos"
   ]
  },
  {
   "cell_type": "markdown",
   "id": "e4820c33",
   "metadata": {},
   "source": [
    "### Sumproduct template: average savings, average credit score\n",
    "\n",
    "#### Average savings"
   ]
  },
  {
   "cell_type": "code",
   "execution_count": 26,
   "id": "b9401b6b",
   "metadata": {},
   "outputs": [],
   "source": [
    "# Defining a function to shorten typing in the future when averaging numerical values using the weights\n",
    "\n",
    "# this one only works in the full sample\n",
    "def weighted_average(values):\n",
    "    if len(values) != len(df.weight):\n",
    "        raise ValueError(\"Number of values and weights must be the same.\")\n",
    "    \n",
    "    total_weight = sum(df.weight)\n",
    "    weighted_sum = sum(value * weight for value, weight in zip(values, df.weight))\n",
    "    \n",
    "    return weighted_sum / total_weight\n",
    "\n",
    "def weighted_average_group(values, weights):\n",
    "    if len(values) != len(weights):\n",
    "        raise ValueError(\"Number of values and weights must be the same.\")\n",
    "    \n",
    "    total_weight = sum(weights)\n",
    "    weighted_sum = sum(value * weight for value, weight in zip(values, weights))\n",
    "    \n",
    "    return weighted_sum / total_weight"
   ]
  },
  {
   "cell_type": "code",
   "execution_count": 27,
   "id": "c2b8f3fa",
   "metadata": {},
   "outputs": [
    {
     "name": "stdout",
     "output_type": "stream",
     "text": [
      "Word 'savings' found in key: D15a_8\n",
      "Word 'savings' found in key: D16\n",
      "Word 'savings' found in key: D17_5\n",
      "Word 'savings' found in key: Savings_V2\n"
     ]
    }
   ],
   "source": [
    "q_finder(\"savings\") # its D16"
   ]
  },
  {
   "cell_type": "code",
   "execution_count": 28,
   "id": "997ef3ff",
   "metadata": {},
   "outputs": [
    {
     "data": {
      "text/plain": [
       "array(['I have no savings.', 'Between $500 and $1,000',\n",
       "       'Between $1,001 and $2,500', 'More than $25,000',\n",
       "       'Between $5,001 and $10,000', 'Between $10,001 and $15,000',\n",
       "       'Between $2,501 and $5,000', 'Between $15,001 and $25,000',\n",
       "       'Less than $500'], dtype=object)"
      ]
     },
     "execution_count": 28,
     "metadata": {},
     "output_type": "execute_result"
    }
   ],
   "source": [
    "df.D16.unique()"
   ]
  },
  {
   "cell_type": "code",
   "execution_count": 39,
   "id": "379911bf",
   "metadata": {},
   "outputs": [
    {
     "data": {
      "text/plain": [
       "<AxesSubplot:>"
      ]
     },
     "execution_count": 39,
     "metadata": {},
     "output_type": "execute_result"
    },
    {
     "data": {
      "image/png": "[encoded data removed]",
      "text/plain": [
       "<Figure size 432x288 with 1 Axes>"
      ]
     },
     "metadata": {
      "needs_background": "light"
     },
     "output_type": "display_data"
    }
   ],
   "source": [
    "df['D16'].value_counts(normalize=True).sort_index().plot(kind=\"bar\")"
   ]
  },
  {
   "cell_type": "code",
   "execution_count": 29,
   "id": "6f7ae20a",
   "metadata": {},
   "outputs": [],
   "source": [
    "savings_to_numerical={\n",
    "    'I have no savings.':0,\n",
    "    'Less than $500':250,\n",
    "    'Between $500 and $1,000':750,\n",
    "    'Between $1,001 and $2,500':1750,\n",
    "    'Between $2,501 and $5,000':3750, \n",
    "    'Between $5,001 and $10,000':7500,\n",
    "    'Between $10,001 and $15,000':12500,\n",
    "    'Between $15,001 and $25,000':20000,\n",
    "    'More than $25,000':32500    \n",
    "}\n",
    "\n",
    "df['D16_numerical']=df.D16.map(savings_to_numerical)"
   ]
  },
  {
   "cell_type": "code",
   "execution_count": 38,
   "id": "5ea9ebf9",
   "metadata": {},
   "outputs": [
    {
     "data": {
      "text/plain": [
       "<AxesSubplot:>"
      ]
     },
     "execution_count": 38,
     "metadata": {},
     "output_type": "execute_result"
    },
    {
     "data": {
      "image/png": "[encoded data removed]",
      "text/plain": [
       "<Figure size 432x288 with 1 Axes>"
      ]
     },
     "metadata": {
      "needs_background": "light"
     },
     "output_type": "display_data"
    }
   ],
   "source": [
    "df['D16_numerical'].value_counts(normalize=True).sort_index().plot(kind=\"bar\")"
   ]
  },
  {
   "cell_type": "code",
   "execution_count": 40,
   "id": "eb57151d",
   "metadata": {},
   "outputs": [],
   "source": [
    "savings={current_month:weighted_average(df['D16_numerical'])}\n",
    "\n",
    "sample_savings = pd.DataFrame(\n",
    "    data=savings.values(),\n",
    "    index= [\"Sample\"],\n",
    "    columns= savings.keys(),\n",
    ")\n",
    "sample_savings.index.name = 'Group'\n",
    "sample_savings.insert(0,\"Two-level\",'Sample') #hard coded"
   ]
  },
  {
   "cell_type": "code",
   "execution_count": 41,
   "id": "3c6b586a",
   "metadata": {},
   "outputs": [
    {
     "data": {
      "text/html": [
       "<div>\n",
       "<style scoped>\n",
       "    .dataframe tbody tr th:only-of-type {\n",
       "        vertical-align: middle;\n",
       "    }\n",
       "\n",
       "    .dataframe tbody tr th {\n",
       "        vertical-align: top;\n",
       "    }\n",
       "\n",
       "    .dataframe thead th {\n",
       "        text-align: right;\n",
       "    }\n",
       "</style>\n",
       "<table border=\"1\" class=\"dataframe\">\n",
       "  <thead>\n",
       "    <tr style=\"text-align: right;\">\n",
       "      <th></th>\n",
       "      <th>Two-level</th>\n",
       "      <th>April 2023</th>\n",
       "    </tr>\n",
       "    <tr>\n",
       "      <th>Group</th>\n",
       "      <th></th>\n",
       "      <th></th>\n",
       "    </tr>\n",
       "  </thead>\n",
       "  <tbody>\n",
       "    <tr>\n",
       "      <th>Sample</th>\n",
       "      <td>Sample</td>\n",
       "      <td>12826.941424</td>\n",
       "    </tr>\n",
       "  </tbody>\n",
       "</table>\n",
       "</div>"
      ],
      "text/plain": [
       "       Two-level    April 2023\n",
       "Group                         \n",
       "Sample    Sample  12826.941424"
      ]
     },
     "execution_count": 41,
     "metadata": {},
     "output_type": "execute_result"
    }
   ],
   "source": [
    "sample_savings"
   ]
  },
  {
   "cell_type": "code",
   "execution_count": 42,
   "id": "98bb80fe",
   "metadata": {},
   "outputs": [
    {
     "data": {
      "text/html": [
       "<div>\n",
       "<style scoped>\n",
       "    .dataframe tbody tr th:only-of-type {\n",
       "        vertical-align: middle;\n",
       "    }\n",
       "\n",
       "    .dataframe tbody tr th {\n",
       "        vertical-align: top;\n",
       "    }\n",
       "\n",
       "    .dataframe thead th {\n",
       "        text-align: right;\n",
       "    }\n",
       "</style>\n",
       "<table border=\"1\" class=\"dataframe\">\n",
       "  <thead>\n",
       "    <tr style=\"text-align: right;\">\n",
       "      <th></th>\n",
       "      <th>Two-level</th>\n",
       "      <th>April 2023</th>\n",
       "    </tr>\n",
       "    <tr>\n",
       "      <th>Group</th>\n",
       "      <th></th>\n",
       "      <th></th>\n",
       "    </tr>\n",
       "  </thead>\n",
       "  <tbody>\n",
       "    <tr>\n",
       "      <th>Sample</th>\n",
       "      <td>Sample</td>\n",
       "      <td>12826.941424</td>\n",
       "    </tr>\n",
       "    <tr>\n",
       "      <th>Paycheck to paycheck and struggling</th>\n",
       "      <td>Financial lifestyle</td>\n",
       "      <td>5236.590618</td>\n",
       "    </tr>\n",
       "    <tr>\n",
       "      <th>Paycheck to paycheck but not struggling</th>\n",
       "      <td>Financial lifestyle</td>\n",
       "      <td>8781.495677</td>\n",
       "    </tr>\n",
       "    <tr>\n",
       "      <th>Not paycheck to paycheck</th>\n",
       "      <td>Financial lifestyle</td>\n",
       "      <td>20933.567656</td>\n",
       "    </tr>\n",
       "    <tr>\n",
       "      <th>Generation Z</th>\n",
       "      <td>Generation</td>\n",
       "      <td>10198.055889</td>\n",
       "    </tr>\n",
       "    <tr>\n",
       "      <th>Millennials</th>\n",
       "      <td>Generation</td>\n",
       "      <td>10702.546847</td>\n",
       "    </tr>\n",
       "    <tr>\n",
       "      <th>Generation X</th>\n",
       "      <td>Generation</td>\n",
       "      <td>12419.959665</td>\n",
       "    </tr>\n",
       "    <tr>\n",
       "      <th>Baby boomers and seniors</th>\n",
       "      <td>Generation</td>\n",
       "      <td>15785.084696</td>\n",
       "    </tr>\n",
       "    <tr>\n",
       "      <th>Under $50K</th>\n",
       "      <td>Income 3</td>\n",
       "      <td>7833.139380</td>\n",
       "    </tr>\n",
       "    <tr>\n",
       "      <th>$50K-$100K</th>\n",
       "      <td>Income 3</td>\n",
       "      <td>11405.841323</td>\n",
       "    </tr>\n",
       "    <tr>\n",
       "      <th>$100K+</th>\n",
       "      <td>Income 3</td>\n",
       "      <td>18398.398844</td>\n",
       "    </tr>\n",
       "    <tr>\n",
       "      <th>Under $50K</th>\n",
       "      <td>Income 5</td>\n",
       "      <td>7833.139380</td>\n",
       "    </tr>\n",
       "    <tr>\n",
       "      <th>$50K-$100K</th>\n",
       "      <td>Income 5</td>\n",
       "      <td>11405.841323</td>\n",
       "    </tr>\n",
       "    <tr>\n",
       "      <th>$100K-$150K</th>\n",
       "      <td>Income 5</td>\n",
       "      <td>15500.516399</td>\n",
       "    </tr>\n",
       "    <tr>\n",
       "      <th>$150K-$200K</th>\n",
       "      <td>Income 5</td>\n",
       "      <td>17047.702617</td>\n",
       "    </tr>\n",
       "    <tr>\n",
       "      <th>$200K-$250K</th>\n",
       "      <td>Income 5</td>\n",
       "      <td>18611.306860</td>\n",
       "    </tr>\n",
       "    <tr>\n",
       "      <th>$250K+</th>\n",
       "      <td>Income 5</td>\n",
       "      <td>28488.670401</td>\n",
       "    </tr>\n",
       "    <tr>\n",
       "      <th>Female</th>\n",
       "      <td>Gender</td>\n",
       "      <td>12467.378931</td>\n",
       "    </tr>\n",
       "    <tr>\n",
       "      <th>Male</th>\n",
       "      <td>Gender</td>\n",
       "      <td>13206.764268</td>\n",
       "    </tr>\n",
       "  </tbody>\n",
       "</table>\n",
       "</div>"
      ],
      "text/plain": [
       "                                                   Two-level    April 2023\n",
       "Group                                                                     \n",
       "Sample                                                Sample  12826.941424\n",
       "Paycheck to paycheck and struggling      Financial lifestyle   5236.590618\n",
       "Paycheck to paycheck but not struggling  Financial lifestyle   8781.495677\n",
       "Not paycheck to paycheck                 Financial lifestyle  20933.567656\n",
       "Generation Z                                      Generation  10198.055889\n",
       "Millennials                                       Generation  10702.546847\n",
       "Generation X                                      Generation  12419.959665\n",
       "Baby boomers and seniors                          Generation  15785.084696\n",
       "Under $50K                                          Income 3   7833.139380\n",
       "$50K-$100K                                          Income 3  11405.841323\n",
       "$100K+                                              Income 3  18398.398844\n",
       "Under $50K                                          Income 5   7833.139380\n",
       "$50K-$100K                                          Income 5  11405.841323\n",
       "$100K-$150K                                         Income 5  15500.516399\n",
       "$150K-$200K                                         Income 5  17047.702617\n",
       "$200K-$250K                                         Income 5  18611.306860\n",
       "$250K+                                              Income 5  28488.670401\n",
       "Female                                                Gender  12467.378931\n",
       "Male                                                  Gender  13206.764268"
      ]
     },
     "execution_count": 42,
     "metadata": {},
     "output_type": "execute_result"
    }
   ],
   "source": [
    "# by financial lifestyle\n",
    "p2p_savings=df.groupby('D15').apply(lambda x: weighted_average_group(x['D16_numerical'], x['weight']))\n",
    "p2p_savings=pd.DataFrame(index=p2p_savings.index, data=p2p_savings.values, columns=[current_month])\n",
    "p2p_savings=p2p_savings.reindex(p2p_order) #order was already defined in p2p section\n",
    "p2p_savings=p2p_savings.rename_axis('Group')\n",
    "p2p_savings.insert(0,\"Two-level\",'Financial lifestyle') #hard coded\n",
    "\n",
    "#generation\n",
    "gen_savings=df.groupby('Generation').apply(lambda x: weighted_average_group(x['D16_numerical'], x['weight']))\n",
    "gen_savings=pd.DataFrame(index=gen_savings.index, data=gen_savings.values, columns=[current_month])\n",
    "gen_savings=gen_savings.reindex(gen_order) #order was already defined in p2p section\n",
    "gen_savings=gen_savings.rename_axis('Group')\n",
    "gen_savings.insert(0,\"Two-level\",'Generation') #hard coded\n",
    "\n",
    "#Income: 3 groups\n",
    "\n",
    "inc3_savings=df.groupby('income_3G').apply(lambda x: weighted_average_group(x['D16_numerical'], x['weight']))\n",
    "inc3_savings=pd.DataFrame(index=inc3_savings.index, data=inc3_savings.values, columns=[current_month])\n",
    "inc3_savings=inc3_savings.reindex(inc3_order) #order was already defined in p2p section\n",
    "inc3_savings=inc3_savings.rename_axis('Group')\n",
    "inc3_savings.insert(0,\"Two-level\",'Income 3') #hard coded\n",
    "\n",
    "#Income: 5 groups\n",
    "\n",
    "inc5_savings=df.groupby('Q_income_RB').apply(lambda x: weighted_average_group(x['D16_numerical'], x['weight']))\n",
    "inc5_savings=pd.DataFrame(index=inc5_savings.index, data=inc5_savings.values, columns=[current_month])\n",
    "inc5_savings=inc5_savings.reindex(inc5_order) #order was already defined in p2p section\n",
    "inc5_savings=inc5_savings.rename_axis('Group')\n",
    "inc5_savings.insert(0,\"Two-level\",'Income 5') #hard coded\n",
    "\n",
    "#Gender\n",
    "\n",
    "gender_savings=df.groupby('L_gender').apply(lambda x: weighted_average_group(x['D16_numerical'], x['weight']))\n",
    "gender_savings=pd.DataFrame(index=gender_savings.index, data=gender_savings.values, columns=[current_month])\n",
    "gender_savings=gender_savings.reindex(gender_order) #order was already defined in p2p section\n",
    "gender_savings=gender_savings.rename_axis('Group')\n",
    "gender_savings.insert(0,\"Two-level\",'Gender') #hard coded\n",
    "\n",
    "## Putting it all toghether\n",
    "savings_tc=pd.concat(\n",
    "    [sample_savings,p2p_savings,gen_savings,inc3_savings,inc5_savings,gender_savings],axis=0)\n",
    "\n",
    "savings_tc"
   ]
  },
  {
   "cell_type": "markdown",
   "id": "42051531",
   "metadata": {},
   "source": [
    "#### Average credit score"
   ]
  },
  {
   "cell_type": "code",
   "execution_count": 44,
   "id": "1cbe3560",
   "metadata": {},
   "outputs": [
    {
     "name": "stdout",
     "output_type": "stream",
     "text": [
      "Word 'credit score' found in key: D28\n",
      "Word 'credit score' found in key: D28a\n",
      "Word 'credit score' found in key: Credit score\n"
     ]
    }
   ],
   "source": [
    "q_finder(\"credit score\")"
   ]
  },
  {
   "cell_type": "code",
   "execution_count": 46,
   "id": "af42c0ec",
   "metadata": {},
   "outputs": [
    {
     "data": {
      "text/plain": [
       "array(['601 to 650', '300 to 400', '651 to 700', '701 to 750',\n",
       "       '801 to 850', '501 to 600', '751 to 800', '401 to 500'],\n",
       "      dtype=object)"
      ]
     },
     "execution_count": 46,
     "metadata": {},
     "output_type": "execute_result"
    }
   ],
   "source": [
    "# I will need to drop nulls for the average so cant work with original dataframe\n",
    "\n",
    "df_cscores=df.copy()\n",
    "df_cscores=df_cscores[['D28','D15','D15_TwoGroups','Generation','Q_income_RB','income_3G','L_gender','weight']]\n",
    "df_cscores=df_cscores[df_cscores.D28 != \"I don't know / I am not sure\"]\n",
    "df_cscores=df_cscores[df_cscores.D28 != \"I don't have a credit score\"]\n",
    "df_cscores.D28.unique()"
   ]
  },
  {
   "cell_type": "code",
   "execution_count": 47,
   "id": "6ec5568e",
   "metadata": {},
   "outputs": [],
   "source": [
    "scores_to_numerical={\n",
    "    \"300 to 400\":350,\n",
    "    \"401 to 500\":450,\n",
    "    \"501 to 600\":550,\n",
    "    \"601 to 650\":625,\n",
    "    \"651 to 700\":675,\n",
    "    \"701 to 750\":725,\n",
    "    \"751 to 800\":775.5,\n",
    "    \"801 to 850\":825,  \n",
    "}\n",
    "\n",
    "df_cscores['D28_numerical']=df_cscores.D28.map(scores_to_numerical)"
   ]
  },
  {
   "cell_type": "code",
   "execution_count": 48,
   "id": "dc08b8ce",
   "metadata": {},
   "outputs": [
    {
     "data": {
      "text/plain": [
       "array([625. , 350. , 675. , 725. , 825. , 550. , 775.5, 450. ])"
      ]
     },
     "execution_count": 48,
     "metadata": {},
     "output_type": "execute_result"
    }
   ],
   "source": [
    "df_cscores.D28_numerical.unique()"
   ]
  },
  {
   "cell_type": "code",
   "execution_count": 57,
   "id": "22842a60",
   "metadata": {},
   "outputs": [],
   "source": [
    "weighted_scores=df_cscores.D28_numerical*df_cscores.weight\n",
    "average_credit_score=weighted_scores.sum()/df_cscores.weight.sum()"
   ]
  },
  {
   "cell_type": "code",
   "execution_count": 58,
   "id": "037a0d7e",
   "metadata": {},
   "outputs": [
    {
     "data": {
      "text/html": [
       "<div>\n",
       "<style scoped>\n",
       "    .dataframe tbody tr th:only-of-type {\n",
       "        vertical-align: middle;\n",
       "    }\n",
       "\n",
       "    .dataframe tbody tr th {\n",
       "        vertical-align: top;\n",
       "    }\n",
       "\n",
       "    .dataframe thead th {\n",
       "        text-align: right;\n",
       "    }\n",
       "</style>\n",
       "<table border=\"1\" class=\"dataframe\">\n",
       "  <thead>\n",
       "    <tr style=\"text-align: right;\">\n",
       "      <th></th>\n",
       "      <th>Two-level</th>\n",
       "      <th>April 2023</th>\n",
       "    </tr>\n",
       "    <tr>\n",
       "      <th>Group</th>\n",
       "      <th></th>\n",
       "      <th></th>\n",
       "    </tr>\n",
       "  </thead>\n",
       "  <tbody>\n",
       "    <tr>\n",
       "      <th>Sample</th>\n",
       "      <td>Sample</td>\n",
       "      <td>712.474782</td>\n",
       "    </tr>\n",
       "  </tbody>\n",
       "</table>\n",
       "</div>"
      ],
      "text/plain": [
       "       Two-level  April 2023\n",
       "Group                       \n",
       "Sample    Sample  712.474782"
      ]
     },
     "execution_count": 58,
     "metadata": {},
     "output_type": "execute_result"
    }
   ],
   "source": [
    "sample_cscores = pd.DataFrame(\n",
    "    data=average_credit_score,\n",
    "    index= [\"Sample\"],\n",
    "    columns= [current_month],\n",
    ")\n",
    "sample_cscores.index.name = 'Group'\n",
    "sample_cscores.insert(0,\"Two-level\",'Sample') #hard coded\n",
    "sample_cscores"
   ]
  },
  {
   "cell_type": "code",
   "execution_count": null,
   "id": "335bd50a",
   "metadata": {},
   "outputs": [],
   "source": [
    "# by financial lifestyle\n",
    "p2p_cscores=df_cscores.groupby('D15').apply(lambda x: weighted_average_group(x['D28_numerical'], x['weight']))\n",
    "p2p_cscores=pd.DataFrame(index=p2p_cscores.index, data=p2p_cscores.values, columns=[current_month])\n",
    "p2p_cscores=p2p_cscores.reindex(p2p_order) #order was already defined in p2p section\n",
    "p2p_cscores=p2p_cscores.rename_axis('Group')\n",
    "p2p_cscores.insert(0,\"Two-level\",'Financial lifestyle') #hard coded\n",
    "\n",
    "#generation\n",
    "gen_cscores=df_cscores.groupby('Generation').apply(lambda x: weighted_average_group(x['D28_numerical'], x['weight']))\n",
    "gen_cscores=pd.DataFrame(index=gen_cscores.index, data=gen_cscores.values, columns=[current_month])\n",
    "gen_cscores=gen_cscores.reindex(gen_order) #order was already defined in p2p section\n",
    "gen_cscores=gen_cscores.rename_axis('Group')\n",
    "gen_cscores.insert(0,\"Two-level\",'Generation') #hard coded\n",
    "\n",
    "#Income: 3 groups\n",
    "\n",
    "inc3_cscores=df_cscores.groupby('income_3G').apply(lambda x: weighted_average_group(x['D28_numerical'], x['weight']))\n",
    "inc3_cscores=pd.DataFrame(index=inc3_cscores.index, data=inc3_cscores.values, columns=[current_month])\n",
    "inc3_cscores=inc3_cscores.reindex(inc3_order) #order was already defined in p2p section\n",
    "inc3_cscores=inc3_cscores.rename_axis('Group')\n",
    "inc3_cscores.insert(0,\"Two-level\",'Income 3') #hard coded\n",
    "\n",
    "#Income: 5 groups\n",
    "\n",
    "inc5_cscores=df_cscores.groupby('Q_income_RB').apply(lambda x: weighted_average_group(x['D28_numerical'], x['weight']))\n",
    "inc5_cscores=pd.DataFrame(index=inc5_cscores.index, data=inc5_cscores.values, columns=[current_month])\n",
    "inc5_cscores=inc5_cscores.reindex(inc5_order) #order was already defined in p2p section\n",
    "inc5_cscores=inc5_cscores.rename_axis('Group')\n",
    "inc5_cscores.insert(0,\"Two-level\",'Income 5') #hard coded\n",
    "\n",
    "#Gender\n",
    "\n",
    "gender_cscores=df_cscores.groupby('L_gender').apply(lambda x: weighted_average_group(x['D28_numerical'], x['weight']))\n",
    "gender_cscores=pd.DataFrame(index=gender_cscores.index, data=gender_cscores.values, columns=[current_month])\n",
    "gender_cscores=gender_cscores.reindex(gender_order) #order was already defined in p2p section\n",
    "gender_cscores=gender_cscores.rename_axis('Group')\n",
    "gender_cscores.insert(0,\"Two-level\",'Gender') #hard coded"
   ]
  },
  {
   "cell_type": "code",
   "execution_count": 69,
   "id": "8ea8ada2",
   "metadata": {},
   "outputs": [
    {
     "data": {
      "text/html": [
       "<div>\n",
       "<style scoped>\n",
       "    .dataframe tbody tr th:only-of-type {\n",
       "        vertical-align: middle;\n",
       "    }\n",
       "\n",
       "    .dataframe tbody tr th {\n",
       "        vertical-align: top;\n",
       "    }\n",
       "\n",
       "    .dataframe thead th {\n",
       "        text-align: right;\n",
       "    }\n",
       "</style>\n",
       "<table border=\"1\" class=\"dataframe\">\n",
       "  <thead>\n",
       "    <tr style=\"text-align: right;\">\n",
       "      <th></th>\n",
       "      <th>Two-level</th>\n",
       "      <th>April 2023</th>\n",
       "    </tr>\n",
       "    <tr>\n",
       "      <th>Group</th>\n",
       "      <th></th>\n",
       "      <th></th>\n",
       "    </tr>\n",
       "  </thead>\n",
       "  <tbody>\n",
       "    <tr>\n",
       "      <th>Sample</th>\n",
       "      <td>Sample</td>\n",
       "      <td>712.474782</td>\n",
       "    </tr>\n",
       "    <tr>\n",
       "      <th>Paycheck to paycheck and struggling</th>\n",
       "      <td>Financial lifestyle</td>\n",
       "      <td>640.815471</td>\n",
       "    </tr>\n",
       "    <tr>\n",
       "      <th>Paycheck to paycheck but not struggling</th>\n",
       "      <td>Financial lifestyle</td>\n",
       "      <td>691.261162</td>\n",
       "    </tr>\n",
       "    <tr>\n",
       "      <th>Not paycheck to paycheck</th>\n",
       "      <td>Financial lifestyle</td>\n",
       "      <td>769.519661</td>\n",
       "    </tr>\n",
       "    <tr>\n",
       "      <th>Generation Z</th>\n",
       "      <td>Generation</td>\n",
       "      <td>682.487338</td>\n",
       "    </tr>\n",
       "    <tr>\n",
       "      <th>Millennials</th>\n",
       "      <td>Generation</td>\n",
       "      <td>678.316796</td>\n",
       "    </tr>\n",
       "    <tr>\n",
       "      <th>Generation X</th>\n",
       "      <td>Generation</td>\n",
       "      <td>703.288278</td>\n",
       "    </tr>\n",
       "    <tr>\n",
       "      <th>Baby boomers and seniors</th>\n",
       "      <td>Generation</td>\n",
       "      <td>756.866678</td>\n",
       "    </tr>\n",
       "    <tr>\n",
       "      <th>Under $50K</th>\n",
       "      <td>Income 3</td>\n",
       "      <td>675.837580</td>\n",
       "    </tr>\n",
       "    <tr>\n",
       "      <th>$50K-$100K</th>\n",
       "      <td>Income 3</td>\n",
       "      <td>708.319636</td>\n",
       "    </tr>\n",
       "    <tr>\n",
       "      <th>$100K+</th>\n",
       "      <td>Income 3</td>\n",
       "      <td>743.554494</td>\n",
       "    </tr>\n",
       "    <tr>\n",
       "      <th>Under $50K</th>\n",
       "      <td>Income 5</td>\n",
       "      <td>675.837580</td>\n",
       "    </tr>\n",
       "    <tr>\n",
       "      <th>$50K-$100K</th>\n",
       "      <td>Income 5</td>\n",
       "      <td>708.319636</td>\n",
       "    </tr>\n",
       "    <tr>\n",
       "      <th>$100K-$150K</th>\n",
       "      <td>Income 5</td>\n",
       "      <td>736.909060</td>\n",
       "    </tr>\n",
       "    <tr>\n",
       "      <th>$150K-$200K</th>\n",
       "      <td>Income 5</td>\n",
       "      <td>741.129901</td>\n",
       "    </tr>\n",
       "    <tr>\n",
       "      <th>$200K-$250K</th>\n",
       "      <td>Income 5</td>\n",
       "      <td>747.773687</td>\n",
       "    </tr>\n",
       "    <tr>\n",
       "      <th>$250K+</th>\n",
       "      <td>Income 5</td>\n",
       "      <td>764.008739</td>\n",
       "    </tr>\n",
       "    <tr>\n",
       "      <th>Female</th>\n",
       "      <td>Gender</td>\n",
       "      <td>717.711968</td>\n",
       "    </tr>\n",
       "    <tr>\n",
       "      <th>Male</th>\n",
       "      <td>Gender</td>\n",
       "      <td>707.057713</td>\n",
       "    </tr>\n",
       "  </tbody>\n",
       "</table>\n",
       "</div>"
      ],
      "text/plain": [
       "                                                   Two-level  April 2023\n",
       "Group                                                                   \n",
       "Sample                                                Sample  712.474782\n",
       "Paycheck to paycheck and struggling      Financial lifestyle  640.815471\n",
       "Paycheck to paycheck but not struggling  Financial lifestyle  691.261162\n",
       "Not paycheck to paycheck                 Financial lifestyle  769.519661\n",
       "Generation Z                                      Generation  682.487338\n",
       "Millennials                                       Generation  678.316796\n",
       "Generation X                                      Generation  703.288278\n",
       "Baby boomers and seniors                          Generation  756.866678\n",
       "Under $50K                                          Income 3  675.837580\n",
       "$50K-$100K                                          Income 3  708.319636\n",
       "$100K+                                              Income 3  743.554494\n",
       "Under $50K                                          Income 5  675.837580\n",
       "$50K-$100K                                          Income 5  708.319636\n",
       "$100K-$150K                                         Income 5  736.909060\n",
       "$150K-$200K                                         Income 5  741.129901\n",
       "$200K-$250K                                         Income 5  747.773687\n",
       "$250K+                                              Income 5  764.008739\n",
       "Female                                                Gender  717.711968\n",
       "Male                                                  Gender  707.057713"
      ]
     },
     "execution_count": 69,
     "metadata": {},
     "output_type": "execute_result"
    }
   ],
   "source": [
    "## Putting it all toghether\n",
    "cscores_tc=pd.concat(\n",
    "    [sample_cscores,p2p_cscores,gen_cscores,inc3_cscores,inc5_cscores,gender_cscores],axis=0)\n",
    "\n",
    "cscores_tc"
   ]
  },
  {
   "cell_type": "markdown",
   "id": "01ca6536",
   "metadata": {},
   "source": [
    "### Share making payments related to credit products"
   ]
  },
  {
   "cell_type": "code",
   "execution_count": 70,
   "id": "b4fc2014",
   "metadata": {},
   "outputs": [
    {
     "name": "stdout",
     "output_type": "stream",
     "text": [
      "Word 'credit product' found in key: D26_1\n",
      "Word 'credit product' found in key: D26_4\n",
      "Word 'credit product' found in key: D26_5\n",
      "Word 'credit product' found in key: D26_6\n",
      "Word 'credit product' found in key: D26_7\n",
      "Word 'credit product' found in key: D26_8\n",
      "Word 'credit product' found in key: D26_9\n",
      "Word 'credit product' found in key: D26_10\n",
      "Word 'credit product' found in key: D26_11\n",
      "Word 'credit product' found in key: D26_13\n",
      "Word 'credit product' found in key: D26_14\n",
      "Word 'credit product' found in key: D26_12\n"
     ]
    }
   ],
   "source": [
    "q_finder(\"credit product\") # its D16"
   ]
  },
  {
   "cell_type": "code",
   "execution_count": 86,
   "id": "5e55160e",
   "metadata": {},
   "outputs": [],
   "source": [
    "# this is a bit tricky because data is scattered in multiple columns\n",
    "# i start off by fetching all unique values other than 0 in each column\n",
    "# then its just about looping throughout and summing the weights of the rows when code=value\n",
    "\n",
    "cproduct_cols=[]\n",
    "\n",
    "for key in codebook:\n",
    "    if 'D26' in key:\n",
    "        cproduct_cols.append(key)"
   ]
  },
  {
   "cell_type": "code",
   "execution_count": 87,
   "id": "4eb375c1",
   "metadata": {},
   "outputs": [
    {
     "data": {
      "text/plain": [
       "['D26_1',\n",
       " 'D26_4',\n",
       " 'D26_5',\n",
       " 'D26_6',\n",
       " 'D26_7',\n",
       " 'D26_8',\n",
       " 'D26_9',\n",
       " 'D26_10',\n",
       " 'D26_11',\n",
       " 'D26_13',\n",
       " 'D26_14',\n",
       " 'D26_12',\n",
       " 'D26.v2']"
      ]
     },
     "execution_count": 87,
     "metadata": {},
     "output_type": "execute_result"
    }
   ],
   "source": [
    "cproduct_cols #some non raw data columns here, dropping"
   ]
  },
  {
   "cell_type": "code",
   "execution_count": 91,
   "id": "b3d039f9",
   "metadata": {},
   "outputs": [],
   "source": [
    "cproduct_cols.remove('D26.v2')"
   ]
  },
  {
   "cell_type": "code",
   "execution_count": 105,
   "id": "6003fbbc",
   "metadata": {},
   "outputs": [],
   "source": [
    "# creating a list with all credit products listed in each column (one each, excluding zeros which mean don't have)\n",
    "cproducts=[]\n",
    "\n",
    "for col in cproduct_cols:\n",
    "    cproducts.extend(df[col].unique()[df[col].unique()!='0'].tolist())\n",
    "\n",
    "cproducts"
   ]
  },
  {
   "cell_type": "code",
   "execution_count": 137,
   "id": "54e79929",
   "metadata": {},
   "outputs": [],
   "source": [
    "#now looping through and summing the weights for all affirmative responses per product\n",
    "\n",
    "\n",
    "cproduct_shares={}\n",
    "for col, product in zip(cproduct_cols,cproducts):\n",
    "    share_using_cp=df[df[col]==product].weight.sum()/wSample\n",
    "    cproduct_shares[product]=share_using_cp\n",
    "    \n",
    "cproduct_shares=pd.DataFrame(data=cproduct_shares.values(), index=cproduct_shares.keys(), columns=[current_month])"
   ]
  },
  {
   "cell_type": "code",
   "execution_count": 141,
   "id": "d39b7180",
   "metadata": {},
   "outputs": [],
   "source": [
    "# Im going to use the current ranking to create the pre-established order\n",
    "# i cannot let this float because i run a risk of appending stuff in mixed places if the order changes\n",
    "# cproduct_shares.sort_values(by=current_month,ascending=False).index.tolist()\n",
    "\n",
    "# 'None' goes last\n",
    "\n",
    "cproduct_order=['Credit card',\n",
    " 'Auto loan',\n",
    " 'Mortgage loan, refinancing',\n",
    " 'Personal loan',\n",
    " 'Buy Now, Pay Later (installment credit)',\n",
    " 'Mortgage loan, first-time buying',\n",
    " 'Student loan',\n",
    " 'Home equity loan',\n",
    " 'Debt consolidation loan',\n",
    " 'Business lines of credit',\n",
    " 'Second mortgage',\n",
    "  'None of these']\n",
    "\n",
    "cproduct_shares.reindex(cproduct_order)\n",
    "cproduct_shares=cproduct_shares.rename_axis('Group')\n",
    "cproduct_shares.insert(0,\"Two-level\",'Sample') #hard coded"
   ]
  },
  {
   "cell_type": "code",
   "execution_count": 142,
   "id": "ce624cb5",
   "metadata": {},
   "outputs": [
    {
     "data": {
      "text/html": [
       "<div>\n",
       "<style scoped>\n",
       "    .dataframe tbody tr th:only-of-type {\n",
       "        vertical-align: middle;\n",
       "    }\n",
       "\n",
       "    .dataframe tbody tr th {\n",
       "        vertical-align: top;\n",
       "    }\n",
       "\n",
       "    .dataframe thead th {\n",
       "        text-align: right;\n",
       "    }\n",
       "</style>\n",
       "<table border=\"1\" class=\"dataframe\">\n",
       "  <thead>\n",
       "    <tr style=\"text-align: right;\">\n",
       "      <th></th>\n",
       "      <th>Two-level</th>\n",
       "      <th>April 2023</th>\n",
       "    </tr>\n",
       "    <tr>\n",
       "      <th>Group</th>\n",
       "      <th></th>\n",
       "      <th></th>\n",
       "    </tr>\n",
       "  </thead>\n",
       "  <tbody>\n",
       "    <tr>\n",
       "      <th>Credit card</th>\n",
       "      <td>Sample</td>\n",
       "      <td>0.665772</td>\n",
       "    </tr>\n",
       "    <tr>\n",
       "      <th>Mortgage loan, first-time buying</th>\n",
       "      <td>Sample</td>\n",
       "      <td>0.116373</td>\n",
       "    </tr>\n",
       "    <tr>\n",
       "      <th>Mortgage loan, refinancing</th>\n",
       "      <td>Sample</td>\n",
       "      <td>0.170599</td>\n",
       "    </tr>\n",
       "    <tr>\n",
       "      <th>Second mortgage</th>\n",
       "      <td>Sample</td>\n",
       "      <td>0.033497</td>\n",
       "    </tr>\n",
       "    <tr>\n",
       "      <th>Personal loan</th>\n",
       "      <td>Sample</td>\n",
       "      <td>0.158918</td>\n",
       "    </tr>\n",
       "    <tr>\n",
       "      <th>Home equity loan</th>\n",
       "      <td>Sample</td>\n",
       "      <td>0.074918</td>\n",
       "    </tr>\n",
       "    <tr>\n",
       "      <th>Auto loan</th>\n",
       "      <td>Sample</td>\n",
       "      <td>0.297956</td>\n",
       "    </tr>\n",
       "    <tr>\n",
       "      <th>Buy Now, Pay Later (installment credit)</th>\n",
       "      <td>Sample</td>\n",
       "      <td>0.128421</td>\n",
       "    </tr>\n",
       "    <tr>\n",
       "      <th>Business lines of credit</th>\n",
       "      <td>Sample</td>\n",
       "      <td>0.058881</td>\n",
       "    </tr>\n",
       "    <tr>\n",
       "      <th>Student loan</th>\n",
       "      <td>Sample</td>\n",
       "      <td>0.077223</td>\n",
       "    </tr>\n",
       "    <tr>\n",
       "      <th>Debt consolidation loan</th>\n",
       "      <td>Sample</td>\n",
       "      <td>0.052914</td>\n",
       "    </tr>\n",
       "    <tr>\n",
       "      <th>None of these</th>\n",
       "      <td>Sample</td>\n",
       "      <td>0.190675</td>\n",
       "    </tr>\n",
       "  </tbody>\n",
       "</table>\n",
       "</div>"
      ],
      "text/plain": [
       "                                        Two-level  April 2023\n",
       "Group                                                        \n",
       "Credit card                                Sample    0.665772\n",
       "Mortgage loan, first-time buying           Sample    0.116373\n",
       "Mortgage loan, refinancing                 Sample    0.170599\n",
       "Second mortgage                            Sample    0.033497\n",
       "Personal loan                              Sample    0.158918\n",
       "Home equity loan                           Sample    0.074918\n",
       "Auto loan                                  Sample    0.297956\n",
       "Buy Now, Pay Later (installment credit)    Sample    0.128421\n",
       "Business lines of credit                   Sample    0.058881\n",
       "Student loan                               Sample    0.077223\n",
       "Debt consolidation loan                    Sample    0.052914\n",
       "None of these                              Sample    0.190675"
      ]
     },
     "execution_count": 142,
     "metadata": {},
     "output_type": "execute_result"
    }
   ],
   "source": [
    "cproduct_shares"
   ]
  },
  {
   "cell_type": "code",
   "execution_count": 184,
   "id": "b485d0e7",
   "metadata": {},
   "outputs": [],
   "source": [
    "cproducts_tc = pd.DataFrame(columns=['Two-level','Product',current_month])\n",
    "\n",
    "# by financial lifestyle\n",
    "\n",
    "for col, product in zip(cproduct_cols,cproducts):\n",
    "    cpw_p2p=df[df[col]==product].groupby('D15')['weight'].sum()\n",
    "    product_table=pd.DataFrame(data=cpw_p2p/wP2P) \n",
    "    product_table=product_table.reindex(p2p_order)\n",
    "    product_table = product_table.rename(columns={'weight': current_month})\n",
    "    product_table.insert(0,\"Two-level\",'Financial lifestyle') #hard coded\n",
    "    product_table.insert(1,\"Product\",product) #hard coded\n",
    "    cproducts_tc= pd.concat([cproducts_tc, product_table])\n",
    "    cproducts_tc= cproducts_tc.rename_axis('Group')"
   ]
  }
 ],
 "metadata": {
  "kernelspec": {
   "display_name": "Python 3",
   "language": "python",
   "name": "python3"
  },
  "language_info": {
   "codemirror_mode": {
    "name": "ipython",
    "version": 3
   },
   "file_extension": ".py",
   "mimetype": "text/x-python",
   "name": "python",
   "nbconvert_exporter": "python",
   "pygments_lexer": "ipython3",
   "version": "3.8.8"
  }
 },
 "nbformat": 4,
 "nbformat_minor": 5
}
