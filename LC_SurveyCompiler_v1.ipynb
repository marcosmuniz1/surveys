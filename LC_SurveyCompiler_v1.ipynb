{
 "cells": [
  {
   "cell_type": "markdown",
   "id": "fb87f2c1",
   "metadata": {},
   "source": [
    "### Setting up the Lending Club time comparisons\n",
    "\n",
    "First: share living paycheck to paycheck by time"
   ]
  },
  {
   "cell_type": "markdown",
   "id": "81cbff71",
   "metadata": {},
   "source": [
    "**Importing libraries, loading csv**"
   ]
  },
  {
   "cell_type": "code",
   "execution_count": 1,
   "id": "c3cbc769",
   "metadata": {},
   "outputs": [],
   "source": [
    "import os\n",
    "import pandas as pd\n",
    "from datetime import datetime"
   ]
  },
  {
   "cell_type": "code",
   "execution_count": 2,
   "id": "d56eb4ba",
   "metadata": {},
   "outputs": [],
   "source": [
    "dir_path = 'C:/Users/marco/Dropbox (MPD)/Analytics Argentina/Billable products/Surveys/Lending Club/All RDs'\n",
    "\n",
    "# Change the working directory to the specified path\n",
    "os.chdir(dir_path)"
   ]
  },
  {
   "cell_type": "code",
   "execution_count": 3,
   "id": "b1d35255",
   "metadata": {},
   "outputs": [],
   "source": [
    "# Needs to be updated periodically\n",
    "\n",
    "current_month = \"April, 2023\"\n",
    "current_order = ['November 2021','December 2021','January 2022','February 2022', 'March 2022','April 2022',\n",
    "                 'May 2022', \"June 2022\", \"July 2022\", \"August 2022\", \"September 2022\", \"October 2022\",\n",
    "                 \"November 2022\", \"December 2022\", \"January 2023\",'February 2023',\"March, 2023\",\"April, 2023\"]"
   ]
  },
  {
   "cell_type": "code",
   "execution_count": 4,
   "id": "65330a02",
   "metadata": {},
   "outputs": [
    {
     "name": "stdout",
     "output_type": "stream",
     "text": [
      "Load successful. 3652 rows and 277 columns loaded into dataframe\n"
     ]
    }
   ],
   "source": [
    "#Setting up dataframe + codebook\n",
    "\n",
    "df=pd.read_csv('LC18.csv', low_memory=False) #harcoded reference\n",
    "df=df.drop(0) #double header, will create codebook but for now im just keeping the code and not the description\n",
    "df=df[df[\"StartDate\"].notnull()] # it imported some whitenoise, as all responses must have a startdate, this solves the issue\n",
    "df=df[df[\"Status\"]==\"IP Address\"] # No test responses considered\n",
    "print(f\"Load successful. {df.shape[0]} rows and {df.shape[1]} columns loaded into dataframe\")\n",
    "\n",
    "codebook=pd.read_csv('LC18.csv', low_memory=False)\n",
    "codebook=codebook.loc[0].to_dict()"
   ]
  },
  {
   "cell_type": "markdown",
   "id": "79b516a9",
   "metadata": {},
   "source": [
    "**Pre processing**"
   ]
  },
  {
   "cell_type": "code",
   "execution_count": 5,
   "id": "ec9ec22c",
   "metadata": {},
   "outputs": [
    {
     "data": {
      "text/plain": [
       "array(['2023-04-03', '2023-04-04', '2023-04-05', '2023-04-06',\n",
       "       '2023-04-07', '2023-04-08', '2023-04-09', '2023-04-10',\n",
       "       '2023-04-11', '2023-04-12', '2023-04-13', '2023-04-14',\n",
       "       '2023-04-15', '2023-04-16', '2023-04-17'], dtype=object)"
      ]
     },
     "execution_count": 5,
     "metadata": {},
     "output_type": "execute_result"
    }
   ],
   "source": [
    "# Need to format dates because they got imported as numbers\n",
    "\n",
    "date_columns=['StartDate','EndDate']\n",
    "for col in date_columns:\n",
    "    df[col] = df[col].astype(float)\n",
    "    df[col] = df[col].astype(int)\n",
    "    df[col]= df[col]+ 693594 # Offset for converting to a valid date in the Gregorian calendar\n",
    "    df[col] = df[col].apply(lambda x: datetime.fromordinal(x))\n",
    "    df[col] = df[col].apply(lambda x: x.strftime('%Y-%m-%d'))\n",
    "    \n",
    "print('Check dates: look ok?')\n",
    "df.StartDate.unique()    "
   ]
  },
  {
   "cell_type": "code",
   "execution_count": 6,
   "id": "1c98b000",
   "metadata": {},
   "outputs": [
    {
     "name": "stdout",
     "output_type": "stream",
     "text": [
      "260086951.46169\n"
     ]
    }
   ],
   "source": [
    "# Need to format weight as a float\n",
    "\n",
    "df.weight=df.weight.astype(float)\n",
    "print(df.weight.sum())"
   ]
  },
  {
   "cell_type": "markdown",
   "id": "3c9cccde",
   "metadata": {},
   "source": [
    "**Share of consumers living paycheck to paycheck**"
   ]
  },
  {
   "cell_type": "code",
   "execution_count": 7,
   "id": "f9c95829",
   "metadata": {},
   "outputs": [
    {
     "name": "stdout",
     "output_type": "stream",
     "text": [
      "Word 'financial lifestyle' found in key: D15\n"
     ]
    }
   ],
   "source": [
    "word_to_find = 'financial lifestyle'\n",
    "\n",
    "for key, value in codebook.items():\n",
    "    if word_to_find in value.lower():\n",
    "        print(f\"Word '{word_to_find}' found in key: {key}\")"
   ]
  },
  {
   "cell_type": "code",
   "execution_count": 8,
   "id": "95b620f5",
   "metadata": {},
   "outputs": [
    {
     "data": {
      "text/plain": [
       "array(['I live paycheck to paycheck and have issues paying my bills each month.',\n",
       "       'I live paycheck to paycheck but am comfortably paying my bills each month.',\n",
       "       'I do not live paycheck to paycheck and have more than enough earnings to cover my bills each month.'],\n",
       "      dtype=object)"
      ]
     },
     "execution_count": 8,
     "metadata": {},
     "output_type": "execute_result"
    }
   ],
   "source": [
    "df.D15.unique()"
   ]
  },
  {
   "cell_type": "code",
   "execution_count": 9,
   "id": "8f599e73",
   "metadata": {},
   "outputs": [],
   "source": [
    "#Two mappings: one for charts (Eventually) one for acessing values easily and shorthand acess\n",
    "\n",
    "p2p_mapping = {'I live paycheck to paycheck and have issues paying my bills each month.': 'Paycheck to paycheck and struggling',\n",
    "           'I live paycheck to paycheck but am comfortably paying my bills each month.': 'Paycheck to paycheck but not struggling',\n",
    "           'I do not live paycheck to paycheck and have more than enough earnings to cover my bills each month.': 'Not paycheck to paycheck'}\n",
    "\n",
    "df.D15=df.D15.map(p2p_mapping)\n",
    "\n",
    "p2p_short = {'Paycheck to paycheck and struggling':'Struggle',\n",
    "           'Paycheck to paycheck but not struggling': 'P2P',\n",
    "           'Not paycheck to paycheck':'NotP2P'}\n",
    "\n",
    "df['D15_short']=df.D15.map(p2p_short)"
   ]
  },
  {
   "cell_type": "code",
   "execution_count": 10,
   "id": "2c780215",
   "metadata": {},
   "outputs": [
    {
     "data": {
      "text/plain": [
       "array(['Paycheck to paycheck and struggling',\n",
       "       'Paycheck to paycheck but not struggling',\n",
       "       'Not paycheck to paycheck'], dtype=object)"
      ]
     },
     "execution_count": 10,
     "metadata": {},
     "output_type": "execute_result"
    }
   ],
   "source": [
    "df.D15.unique()"
   ]
  },
  {
   "cell_type": "code",
   "execution_count": 11,
   "id": "bc43ed3d",
   "metadata": {},
   "outputs": [
    {
     "data": {
      "text/plain": [
       "array(['Struggle', 'P2P', 'NotP2P'], dtype=object)"
      ]
     },
     "execution_count": 11,
     "metadata": {},
     "output_type": "execute_result"
    }
   ],
   "source": [
    "df.D15_short.unique()"
   ]
  },
  {
   "cell_type": "code",
   "execution_count": 19,
   "id": "fc897abb",
   "metadata": {},
   "outputs": [],
   "source": [
    "# summing weights by group, then dividing by total to get share living in select lifestyles\n",
    "# storing results in dataframe, eventually i will be able to loop and get all of them\n",
    "\n",
    "p2p_groups=df.groupby('D15')\n",
    "\n",
    "p2p_weight_subtotals = p2p_groups['weight'].sum()\n",
    "total_weight = p2p_weight_subtotals.sum()\n",
    "weight_shares = p2p_weight_subtotals / total_weight\n",
    "\n",
    "p2p_shares = pd.DataFrame({'April 2023': round(weight_shares*100,2)}) #Hard coded"
   ]
  }
 ],
 "metadata": {
  "kernelspec": {
   "display_name": "Python 3",
   "language": "python",
   "name": "python3"
  },
  "language_info": {
   "codemirror_mode": {
    "name": "ipython",
    "version": 3
   },
   "file_extension": ".py",
   "mimetype": "text/x-python",
   "name": "python",
   "nbconvert_exporter": "python",
   "pygments_lexer": "ipython3",
   "version": "3.8.8"
  }
 },
 "nbformat": 4,
 "nbformat_minor": 5
}
