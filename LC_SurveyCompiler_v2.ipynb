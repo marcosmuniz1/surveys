{
 "cells": [
  {
   "cell_type": "code",
   "execution_count": null,
   "id": "4b13eca5",
   "metadata": {},
   "outputs": [],
   "source": [
    "#Compared to v1:\n",
    "\n",
    "# Added demo comparisons of the share of consumers living paycheck to paycheck\n",
    "\n",
    "## Next up, share struggling to pay bills, average savings, average credit score, share making payments related to credit products\n",
    "\n",
    "# Q&A calculator\n"
   ]
  },
  {
   "cell_type": "markdown",
   "id": "fb87f2c1",
   "metadata": {},
   "source": [
    "## Setting up the Lending Club time comparisons\n",
    "\n",
    "First: share living paycheck to paycheck by time"
   ]
  },
  {
   "cell_type": "markdown",
   "id": "81cbff71",
   "metadata": {},
   "source": [
    "**Importing libraries, loading csv**"
   ]
  },
  {
   "cell_type": "code",
   "execution_count": 1,
   "id": "c3cbc769",
   "metadata": {},
   "outputs": [],
   "source": [
    "import os\n",
    "import numpy as np\n",
    "import pandas as pd\n",
    "from datetime import datetime"
   ]
  },
  {
   "cell_type": "code",
   "execution_count": 2,
   "id": "d56eb4ba",
   "metadata": {},
   "outputs": [],
   "source": [
    "dir_path = 'C:/Users/marco/Dropbox (MPD)/Analytics Argentina/Billable products/Surveys/Lending Club/All RDs'\n",
    "\n",
    "# Change the working directory to the specified path\n",
    "os.chdir(dir_path)"
   ]
  },
  {
   "cell_type": "code",
   "execution_count": 3,
   "id": "b1d35255",
   "metadata": {},
   "outputs": [],
   "source": [
    "# Needs to be updated periodically\n",
    "\n",
    "current_month = \"April, 2023\"\n",
    "current_order = ['November 2021','December 2021','January 2022','February 2022', 'March 2022','April 2022',\n",
    "                 'May 2022', \"June 2022\", \"July 2022\", \"August 2022\", \"September 2022\", \"October 2022\",\n",
    "                 \"November 2022\", \"December 2022\", \"January 2023\",'February 2023',\"March, 2023\",\"April, 2023\"]"
   ]
  },
  {
   "cell_type": "code",
   "execution_count": 4,
   "id": "65330a02",
   "metadata": {},
   "outputs": [
    {
     "name": "stdout",
     "output_type": "stream",
     "text": [
      "Load successful. 3652 rows and 277 columns loaded into dataframe\n"
     ]
    }
   ],
   "source": [
    "#Setting up dataframe + codebook\n",
    "\n",
    "df=pd.read_csv('LC18.csv', low_memory=False) #harcoded reference\n",
    "\n",
    "#double header, will create a codebook but for now im just keeping the code and not the description\n",
    "df=df.drop(0)\n",
    "# it imported some whitenoise, as all responses must have a startdate\n",
    "df=df[df[\"StartDate\"].notnull()]\n",
    " # No test responses considered\n",
    "df=df[df[\"Status\"]==\"IP Address\"]\n",
    "\n",
    "print(f\"Load successful. {df.shape[0]} rows and {df.shape[1]} columns loaded into dataframe\")\n",
    "\n",
    "codebook=pd.read_csv('LC18.csv', low_memory=False)\n",
    "codebook=codebook.loc[0].to_dict()"
   ]
  },
  {
   "cell_type": "markdown",
   "id": "79b516a9",
   "metadata": {},
   "source": [
    "### Pre processing"
   ]
  },
  {
   "cell_type": "code",
   "execution_count": 5,
   "id": "ec9ec22c",
   "metadata": {},
   "outputs": [
    {
     "name": "stdout",
     "output_type": "stream",
     "text": [
      "Check dates: look ok?\n",
      "['2023-04-03' '2023-04-04' '2023-04-05' '2023-04-06' '2023-04-07'\n",
      " '2023-04-08' '2023-04-09' '2023-04-10' '2023-04-11' '2023-04-12'\n",
      " '2023-04-13' '2023-04-14' '2023-04-15' '2023-04-16' '2023-04-17']\n"
     ]
    }
   ],
   "source": [
    "# Need to format dates because they got imported as numbers\n",
    "\n",
    "date_columns=['StartDate','EndDate']\n",
    "for col in date_columns:\n",
    "    df[col] = df[col].astype(float)\n",
    "    df[col] = df[col].astype(int)\n",
    "    df[col]= df[col]+ 693594 # Offset for converting to a valid date in the Gregorian calendar\n",
    "    df[col] = df[col].apply(lambda x: datetime.fromordinal(x))\n",
    "    df[col] = df[col].apply(lambda x: x.strftime('%Y-%m-%d'))\n",
    "    \n",
    "print('Check dates: look ok?')\n",
    "print(np.sort(df.EndDate.unique()))"
   ]
  },
  {
   "cell_type": "code",
   "execution_count": 6,
   "id": "1c98b000",
   "metadata": {},
   "outputs": [
    {
     "name": "stdout",
     "output_type": "stream",
     "text": [
      "Weight sum should be 260M or similar\n",
      "260086951.46169\n"
     ]
    }
   ],
   "source": [
    "# Need to format weight as a float\n",
    "\n",
    "df.weight=df.weight.astype(float)\n",
    "print(\"Weight sum should be 260M or similar\")\n",
    "print(df.weight.sum())"
   ]
  },
  {
   "cell_type": "markdown",
   "id": "3c9cccde",
   "metadata": {},
   "source": [
    "### Share of consumers living paycheck to paycheck"
   ]
  },
  {
   "cell_type": "code",
   "execution_count": 7,
   "id": "f9c95829",
   "metadata": {},
   "outputs": [
    {
     "name": "stdout",
     "output_type": "stream",
     "text": [
      "Word 'financial lifestyle' found in key: D15\n"
     ]
    }
   ],
   "source": [
    "# Analysis needs financial lifestyle column as an input\n",
    "# D15 is generally the code, but in case it changes here's a search function:\n",
    "\n",
    "word_to_find = 'financial lifestyle'\n",
    "\n",
    "for key, value in codebook.items():\n",
    "    if word_to_find in value.lower():\n",
    "        print(f\"Word '{word_to_find}' found in key: {key}\")"
   ]
  },
  {
   "cell_type": "code",
   "execution_count": 8,
   "id": "95b620f5",
   "metadata": {},
   "outputs": [
    {
     "data": {
      "text/plain": [
       "array(['I live paycheck to paycheck and have issues paying my bills each month.',\n",
       "       'I live paycheck to paycheck but am comfortably paying my bills each month.',\n",
       "       'I do not live paycheck to paycheck and have more than enough earnings to cover my bills each month.'],\n",
       "      dtype=object)"
      ]
     },
     "execution_count": 8,
     "metadata": {},
     "output_type": "execute_result"
    }
   ],
   "source": [
    "#double check its the needed code:\n",
    "df.D15.unique()"
   ]
  },
  {
   "cell_type": "code",
   "execution_count": 9,
   "id": "8f599e73",
   "metadata": {},
   "outputs": [],
   "source": [
    "#Two mappings: one for charts (eventually) and one for shorthand acess\n",
    "\n",
    "p2p_mapping = {'I live paycheck to paycheck and have issues paying my bills each month.': 'Paycheck to paycheck and struggling',\n",
    "           'I live paycheck to paycheck but am comfortably paying my bills each month.': 'Paycheck to paycheck but not struggling',\n",
    "           'I do not live paycheck to paycheck and have more than enough earnings to cover my bills each month.': 'Not paycheck to paycheck'}\n",
    "\n",
    "df.D15=df.D15.map(p2p_mapping)\n",
    "\n",
    "p2p_short = {'Paycheck to paycheck and struggling':'Struggle',\n",
    "           'Paycheck to paycheck but not struggling': 'P2P',\n",
    "           'Not paycheck to paycheck':'NotP2P'}\n",
    "\n",
    "df['D15_short']=df.D15.map(p2p_short)\n",
    "\n",
    "# I could also map this into living paycheck to paycheck and not, but i already have this variable: P2P"
   ]
  },
  {
   "cell_type": "code",
   "execution_count": 10,
   "id": "2c780215",
   "metadata": {},
   "outputs": [
    {
     "name": "stdout",
     "output_type": "stream",
     "text": [
      "['Struggle' 'P2P' 'NotP2P']\n",
      "**********\n",
      "['Paycheck to paycheck and struggling'\n",
      " 'Paycheck to paycheck but not struggling' 'Not paycheck to paycheck']\n",
      "**********\n",
      "0 null values\n"
     ]
    }
   ],
   "source": [
    "print(df.D15_short.unique())\n",
    "print(\"*\"*10)\n",
    "print(df.D15.unique()) # it's central to the analysis that there are no values outside the three expected values\n",
    "print(\"*\"*10)\n",
    "print(f'{df.D15.isnull().sum()} null values in target column')"
   ]
  },
  {
   "cell_type": "markdown",
   "id": "c5407627",
   "metadata": {},
   "source": [
    "#### Share of consumers living paycheck to paycheck: Demo comparisons"
   ]
  },
  {
   "cell_type": "code",
   "execution_count": 11,
   "id": "fc897abb",
   "metadata": {},
   "outputs": [],
   "source": [
    "# setting up numerator and denominator. first denominators, which are are number of people in every (sub)group\n",
    "# numerator is share of people living p2p in each group\n",
    "# storing results in dataframe, eventually i will be able to loop and get all of them\n",
    "\n",
    "# Splitting sample by p2p status + quantifying the pop of each subset, gross and as a share of total\n",
    "p2p_groups=df.groupby('D15') #hard coded\n",
    "p2p_weight_subtotals = p2p_groups['weight'].sum()\n",
    "total_weight = p2p_weight_subtotals.sum()\n",
    "weight_shares = p2p_weight_subtotals / total_weight\n",
    "\n",
    "p2p_shares = pd.DataFrame({'April 2023': round(weight_shares*100,2)}) #Date is hard coded"
   ]
  },
  {
   "cell_type": "code",
   "execution_count": 12,
   "id": "cca0f929",
   "metadata": {},
   "outputs": [
    {
     "data": {
      "text/html": [
       "<div>\n",
       "<style scoped>\n",
       "    .dataframe tbody tr th:only-of-type {\n",
       "        vertical-align: middle;\n",
       "    }\n",
       "\n",
       "    .dataframe tbody tr th {\n",
       "        vertical-align: top;\n",
       "    }\n",
       "\n",
       "    .dataframe thead th {\n",
       "        text-align: right;\n",
       "    }\n",
       "</style>\n",
       "<table border=\"1\" class=\"dataframe\">\n",
       "  <thead>\n",
       "    <tr style=\"text-align: right;\">\n",
       "      <th></th>\n",
       "      <th>April 2023</th>\n",
       "    </tr>\n",
       "    <tr>\n",
       "      <th>D15</th>\n",
       "      <th></th>\n",
       "    </tr>\n",
       "  </thead>\n",
       "  <tbody>\n",
       "    <tr>\n",
       "      <th>Not paycheck to paycheck</th>\n",
       "      <td>38.90</td>\n",
       "    </tr>\n",
       "    <tr>\n",
       "      <th>Paycheck to paycheck and struggling</th>\n",
       "      <td>19.23</td>\n",
       "    </tr>\n",
       "    <tr>\n",
       "      <th>Paycheck to paycheck but not struggling</th>\n",
       "      <td>41.88</td>\n",
       "    </tr>\n",
       "  </tbody>\n",
       "</table>\n",
       "</div>"
      ],
      "text/plain": [
       "                                         April 2023\n",
       "D15                                                \n",
       "Not paycheck to paycheck                      38.90\n",
       "Paycheck to paycheck and struggling           19.23\n",
       "Paycheck to paycheck but not struggling       41.88"
      ]
     },
     "execution_count": 12,
     "metadata": {},
     "output_type": "execute_result"
    }
   ],
   "source": [
    "p2p_shares"
   ]
  },
  {
   "cell_type": "code",
   "execution_count": 13,
   "id": "40770ac9",
   "metadata": {},
   "outputs": [
    {
     "data": {
      "text/plain": [
       "100.00999999999999"
      ]
     },
     "execution_count": 13,
     "metadata": {},
     "output_type": "execute_result"
    }
   ],
   "source": [
    "p2p_shares['April 2023'].sum()"
   ]
  },
  {
   "cell_type": "code",
   "execution_count": 14,
   "id": "1366b2f5",
   "metadata": {},
   "outputs": [],
   "source": [
    "# defining my target demographic subsets and the respective populations by split\n",
    "#Age, income (3 and 5 splits), and gender. P2P not included because its the baseline split\n",
    "wGens = df.groupby('Generation')['weight'].sum()\n",
    "wIncome5 = df.groupby('Q_income_RB')['weight'].sum()\n",
    "wIncome3 = df.groupby('income_3G')['weight'].sum()\n",
    "wGender = df.groupby('L_gender')['weight'].sum()"
   ]
  },
  {
   "cell_type": "code",
   "execution_count": 15,
   "id": "437a0b2d",
   "metadata": {},
   "outputs": [
    {
     "data": {
      "text/plain": [
       "Generation\n",
       "Baby boomers and seniors    90.439987\n",
       "Generation X                63.392723\n",
       "Generation Z                31.732627\n",
       "Millennials                 74.521614\n",
       "Name: weight, dtype: float64"
      ]
     },
     "execution_count": 15,
     "metadata": {},
     "output_type": "execute_result"
    }
   ],
   "source": [
    "# Two silly checks\n",
    "wGens/1000000"
   ]
  },
  {
   "cell_type": "code",
   "execution_count": 16,
   "id": "d962d6fe",
   "metadata": {},
   "outputs": [
    {
     "data": {
      "text/plain": [
       "Q_income_RB\n",
       "$100K-$150K    0.179064\n",
       "$150K-$200K    0.088617\n",
       "$200K-$250K    0.040706\n",
       "$250K+         0.062430\n",
       "$50K-$100K     0.301647\n",
       "Under $50K     0.327870\n",
       "Name: weight, dtype: float64"
      ]
     },
     "execution_count": 16,
     "metadata": {},
     "output_type": "execute_result"
    }
   ],
   "source": [
    "wIncome5/260000000 #go back and ensure these shares match the current lending analysis"
   ]
  },
  {
   "cell_type": "code",
   "execution_count": 17,
   "id": "a54f767a",
   "metadata": {},
   "outputs": [],
   "source": [
    "# paycheck to paycheck populations withing each subgroup of each split\n",
    "\n",
    "ppwGens=df[df['P2P']=='Paycheck to paychek'].groupby('Generation')['weight'].sum()\n",
    "ppwInc5=df[df['P2P']=='Paycheck to paychek'].groupby('Q_income_RB')['weight'].sum()\n",
    "ppwInc3=df[df['P2P']=='Paycheck to paychek'].groupby('income_3G')['weight'].sum()\n",
    "ppwGender=df[df['P2P']=='Paycheck to paychek'].groupby('L_gender')['weight'].sum()"
   ]
  },
  {
   "cell_type": "code",
   "execution_count": 18,
   "id": "8039b82b",
   "metadata": {},
   "outputs": [
    {
     "data": {
      "text/plain": [
       "Generation\n",
       "Baby boomers and seniors    0.502782\n",
       "Generation X                0.631301\n",
       "Generation Z                0.579320\n",
       "Millennials                 0.738606\n",
       "Name: weight, dtype: float64"
      ]
     },
     "execution_count": 18,
     "metadata": {},
     "output_type": "execute_result"
    }
   ],
   "source": [
    "# eyeball shares of p2p by generation, make sense?\n",
    "ppwGens/wGens"
   ]
  },
  {
   "cell_type": "code",
   "execution_count": null,
   "id": "682593b7",
   "metadata": {},
   "outputs": [],
   "source": [
    "# Now i'm setting up a dataframe to consolidate this information\n",
    "# I use crosstab"
   ]
  },
  {
   "cell_type": "code",
   "execution_count": 25,
   "id": "2c9115d5",
   "metadata": {},
   "outputs": [],
   "source": [
    "gen_shares=ppwGens/wGens\n",
    "gen_shares=pd.DataFrame(index=gen_shares.index, data=gen_shares.values, columns=['April 2023'])"
   ]
  },
  {
   "cell_type": "code",
   "execution_count": 26,
   "id": "cddf69e6",
   "metadata": {},
   "outputs": [
    {
     "data": {
      "text/html": [
       "<div>\n",
       "<style scoped>\n",
       "    .dataframe tbody tr th:only-of-type {\n",
       "        vertical-align: middle;\n",
       "    }\n",
       "\n",
       "    .dataframe tbody tr th {\n",
       "        vertical-align: top;\n",
       "    }\n",
       "\n",
       "    .dataframe thead th {\n",
       "        text-align: right;\n",
       "    }\n",
       "</style>\n",
       "<table border=\"1\" class=\"dataframe\">\n",
       "  <thead>\n",
       "    <tr style=\"text-align: right;\">\n",
       "      <th></th>\n",
       "      <th>April 2023</th>\n",
       "    </tr>\n",
       "    <tr>\n",
       "      <th>Generation</th>\n",
       "      <th></th>\n",
       "    </tr>\n",
       "  </thead>\n",
       "  <tbody>\n",
       "    <tr>\n",
       "      <th>Baby boomers and seniors</th>\n",
       "      <td>0.502782</td>\n",
       "    </tr>\n",
       "    <tr>\n",
       "      <th>Generation X</th>\n",
       "      <td>0.631301</td>\n",
       "    </tr>\n",
       "    <tr>\n",
       "      <th>Generation Z</th>\n",
       "      <td>0.579320</td>\n",
       "    </tr>\n",
       "    <tr>\n",
       "      <th>Millennials</th>\n",
       "      <td>0.738606</td>\n",
       "    </tr>\n",
       "  </tbody>\n",
       "</table>\n",
       "</div>"
      ],
      "text/plain": [
       "                          April 2023\n",
       "Generation                          \n",
       "Baby boomers and seniors    0.502782\n",
       "Generation X                0.631301\n",
       "Generation Z                0.579320\n",
       "Millennials                 0.738606"
      ]
     },
     "execution_count": 26,
     "metadata": {},
     "output_type": "execute_result"
    }
   ],
   "source": [
    "gen_shares"
   ]
  },
  {
   "cell_type": "code",
   "execution_count": null,
   "id": "9e71a637",
   "metadata": {},
   "outputs": [],
   "source": [
    "#A) Generations\n",
    "## Perform cross-tabulation with normalization\n",
    "gen_cross_tab = pd.crosstab(df['Generation'], df['P2P'], normalize='index')\n",
    "\n",
    "## Select the share of 'Paycheck to paychek' in the P2P column\n",
    "gen_shares = gen_cross_tab['Paycheck to paychek']\n",
    "\n",
    "## Turn into a dataframe (will mage with other demos/periods in the future)\n",
    "gen_shares=pd.DataFrame(index=gen_shares.index, data=gen_shares.values, columns=['April 2023'])\n",
    "gen_order = ['Generation Z', 'Millennials', 'Generation X','Baby boomers and seniors']\n",
    "gen_shares=gen_shares.reindex(gen_order)\n",
    "gen_shares=gen_shares.rename_axis('Group')\n",
    "\n",
    "gen_shares"
   ]
  },
  {
   "cell_type": "code",
   "execution_count": null,
   "id": "4067e439",
   "metadata": {
    "scrolled": true
   },
   "outputs": [],
   "source": [
    "#B) Income: 5 groups\n",
    "\n",
    "\n",
    "# Perform cross-tabulation with normalization\n",
    "income5_cross_tab = pd.crosstab(df['Q_income_RB'], df['P2P'], normalize='index')\n",
    "\n",
    "# Select the share of 'Paycheck to paychek' in the P2P column\n",
    "income5_shares = income5_cross_tab['Paycheck to paychek']\n",
    "income5_shares=pd.DataFrame(index=income5_shares.index, data=income5_shares.values, columns=['April 2023'])\n",
    "\n",
    "inc5_order = ['Under $50K', '$50K-$100K', '$100K-$150K','$150K-$200K','$200K-$250K','$250K+']\n",
    "\n",
    "income5_shares=income5_shares.reindex(inc5_order)\n",
    "income5_shares=income5_shares.rename_axis('Group')\n",
    "income5_shares"
   ]
  },
  {
   "cell_type": "code",
   "execution_count": null,
   "id": "0f5606a6",
   "metadata": {},
   "outputs": [],
   "source": [
    "#C) Income: 3 groups\n",
    "\n",
    "# Perform cross-tabulation with normalization\n",
    "income3_cross_tab = pd.crosstab(df['income_3G'], df['P2P'], normalize='index')\n",
    "\n",
    "# Select the share of 'Paycheck to paychek' in the P2P column\n",
    "income3_shares = income3_cross_tab['Paycheck to paychek']\n",
    "income3_shares=pd.DataFrame(index=income3_shares.index, data=income3_shares.values, columns=['April 2023'])\n",
    "\n",
    "inc3_order = ['Under $50K', '$50K-$100K', '$100K+']\n",
    "\n",
    "income3_shares=income3_shares.reindex(inc3_order)\n",
    "income3_shares=income3_shares.rename_axis('Group')\n",
    "income3_shares"
   ]
  },
  {
   "cell_type": "code",
   "execution_count": null,
   "id": "0934a74e",
   "metadata": {},
   "outputs": [],
   "source": [
    "#D) Gender\n",
    "\n",
    "# Perform cross-tabulation with normalization\n",
    "gender_cross_tab = pd.crosstab(df['L_gender'], df['P2P'], normalize='index')\n",
    "\n",
    "# Select the share of 'Paycheck to paychek' in the P2P column\n",
    "gender_shares = gender_cross_tab['Paycheck to paychek']\n",
    "gender_shares=pd.DataFrame(index=gender_shares.index, data=gender_shares.values, columns=['April 2023'])\n",
    "\n",
    "gender_order = ['Female', 'Male']\n",
    "\n",
    "gender_shares=gender_shares.reindex(gender_order)\n",
    "gender_shares=gender_shares.rename_axis('Group')\n",
    "gender_shares"
   ]
  },
  {
   "cell_type": "code",
   "execution_count": null,
   "id": "98524eab",
   "metadata": {},
   "outputs": [],
   "source": [
    "## Putting it all toghether\n",
    "p2p_all_demos=pd.concat([gen_shares,income3_shares,income5_shares,gender_shares],axis=0)\n",
    "p2p_all_demos"
   ]
  },
  {
   "cell_type": "code",
   "execution_count": null,
   "id": "aa1a8023",
   "metadata": {},
   "outputs": [],
   "source": []
  }
 ],
 "metadata": {
  "kernelspec": {
   "display_name": "Python 3",
   "language": "python",
   "name": "python3"
  },
  "language_info": {
   "codemirror_mode": {
    "name": "ipython",
    "version": 3
   },
   "file_extension": ".py",
   "mimetype": "text/x-python",
   "name": "python",
   "nbconvert_exporter": "python",
   "pygments_lexer": "ipython3",
   "version": "3.8.8"
  }
 },
 "nbformat": 4,
 "nbformat_minor": 5
}
